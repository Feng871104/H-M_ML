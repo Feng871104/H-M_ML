{
 "cells": [
  {
   "cell_type": "markdown",
   "id": "6c998455",
   "metadata": {
    "id": "6c998455"
   },
   "source": [
    "# 載入套件"
   ]
  },
  {
   "cell_type": "code",
   "execution_count": null,
   "id": "add3a9c2",
   "metadata": {
    "id": "add3a9c2"
   },
   "outputs": [],
   "source": [
    "#!pip install tensorflow\n",
    "#!pip install xgboost"
   ]
  },
  {
   "cell_type": "code",
   "execution_count": 1,
   "id": "4a6f4576",
   "metadata": {
    "id": "4a6f4576"
   },
   "outputs": [],
   "source": [
    "import numpy as np\n",
    "import pandas as pd\n",
    "import random\n",
    "import seaborn as sns\n",
    "import tensorflow\n",
    "from sklearn.preprocessing import LabelEncoder\n",
    "import matplotlib.pyplot as plt\n",
    "from tensorflow.keras import models\n",
    "from tensorflow.keras import layers\n",
    "from sklearn.metrics import accuracy_score,confusion_matrix"
   ]
  },
  {
   "cell_type": "code",
   "execution_count": null,
   "id": "f65AbS8ZcpXd",
   "metadata": {
    "colab": {
     "base_uri": "https://localhost:8080/"
    },
    "executionInfo": {
     "elapsed": 14651,
     "status": "ok",
     "timestamp": 1650248063130,
     "user": {
      "displayName": "蕭至峰",
      "userId": "06823841140567024471"
     },
     "user_tz": -480
    },
    "id": "f65AbS8ZcpXd",
    "outputId": "12941d3b-6f98-449b-ad24-9324e1f89390"
   },
   "outputs": [
    {
     "name": "stdout",
     "output_type": "stream",
     "text": [
      "Mounted at /content/drive\n"
     ]
    }
   ],
   "source": [
    "# from google.colab import drive\n",
    "# drive.mount('/content/drive')"
   ]
  },
  {
   "cell_type": "markdown",
   "id": "c82d78fb",
   "metadata": {},
   "source": [
    "# 載入資料"
   ]
  },
  {
   "cell_type": "code",
   "execution_count": 2,
   "id": "973e2edd",
   "metadata": {
    "colab": {
     "base_uri": "https://localhost:8080/",
     "height": 730
    },
    "executionInfo": {
     "elapsed": 446,
     "status": "ok",
     "timestamp": 1650170934483,
     "user": {
      "displayName": "gst g",
      "userId": "12328799786375158090"
     },
     "user_tz": -480
    },
    "id": "973e2edd",
    "outputId": "fb64d479-8d47-4b1d-8b6d-431e047d90a7",
    "scrolled": true
   },
   "outputs": [
    {
     "data": {
      "text/html": [
       "<div>\n",
       "<style scoped>\n",
       "    .dataframe tbody tr th:only-of-type {\n",
       "        vertical-align: middle;\n",
       "    }\n",
       "\n",
       "    .dataframe tbody tr th {\n",
       "        vertical-align: top;\n",
       "    }\n",
       "\n",
       "    .dataframe thead th {\n",
       "        text-align: right;\n",
       "    }\n",
       "</style>\n",
       "<table border=\"1\" class=\"dataframe\">\n",
       "  <thead>\n",
       "    <tr style=\"text-align: right;\">\n",
       "      <th></th>\n",
       "      <th>article_id</th>\n",
       "      <th>sales_channel_id</th>\n",
       "      <th>product_group_name</th>\n",
       "      <th>graphical_appearance_name</th>\n",
       "      <th>colour_group_name</th>\n",
       "      <th>department_name</th>\n",
       "      <th>section_name</th>\n",
       "      <th>garment_group_name</th>\n",
       "      <th>FN</th>\n",
       "      <th>Active</th>\n",
       "      <th>club_member_status</th>\n",
       "      <th>fashion_news_frequency</th>\n",
       "      <th>Year</th>\n",
       "      <th>season</th>\n",
       "      <th>pricelabel</th>\n",
       "      <th>salelabel</th>\n",
       "    </tr>\n",
       "  </thead>\n",
       "  <tbody>\n",
       "    <tr>\n",
       "      <th>39449</th>\n",
       "      <td>562245102</td>\n",
       "      <td>2</td>\n",
       "      <td>Garment Lower body</td>\n",
       "      <td>Denim</td>\n",
       "      <td>Light Blue</td>\n",
       "      <td>Trouser</td>\n",
       "      <td>Womens Everyday Collection</td>\n",
       "      <td>Trousers</td>\n",
       "      <td>0</td>\n",
       "      <td>0</td>\n",
       "      <td>ACTIVE</td>\n",
       "      <td>NONE</td>\n",
       "      <td>2020</td>\n",
       "      <td>Spring</td>\n",
       "      <td>300~399元</td>\n",
       "      <td>一般</td>\n",
       "    </tr>\n",
       "    <tr>\n",
       "      <th>76788</th>\n",
       "      <td>770315006</td>\n",
       "      <td>1</td>\n",
       "      <td>Garment Upper body</td>\n",
       "      <td>Solid</td>\n",
       "      <td>White</td>\n",
       "      <td>Jersey</td>\n",
       "      <td>Womens Tailoring</td>\n",
       "      <td>Jersey Fancy</td>\n",
       "      <td>1</td>\n",
       "      <td>1</td>\n",
       "      <td>ACTIVE</td>\n",
       "      <td>REGULARLY</td>\n",
       "      <td>2020</td>\n",
       "      <td>Spring</td>\n",
       "      <td>100~199元</td>\n",
       "      <td>冷門</td>\n",
       "    </tr>\n",
       "    <tr>\n",
       "      <th>40519</th>\n",
       "      <td>738943003</td>\n",
       "      <td>2</td>\n",
       "      <td>Garment Upper body</td>\n",
       "      <td>Melange</td>\n",
       "      <td>Greyish Beige</td>\n",
       "      <td>Knitwear</td>\n",
       "      <td>Womens Everyday Collection</td>\n",
       "      <td>Knitwear</td>\n",
       "      <td>0</td>\n",
       "      <td>0</td>\n",
       "      <td>ACTIVE</td>\n",
       "      <td>NONE</td>\n",
       "      <td>2020</td>\n",
       "      <td>Winter</td>\n",
       "      <td>200~299元</td>\n",
       "      <td>一般</td>\n",
       "    </tr>\n",
       "    <tr>\n",
       "      <th>26443</th>\n",
       "      <td>688537005</td>\n",
       "      <td>2</td>\n",
       "      <td>Swimwear</td>\n",
       "      <td>Stripe</td>\n",
       "      <td>Dark Blue</td>\n",
       "      <td>Swimwear</td>\n",
       "      <td>Womens Swimwear, beachwear</td>\n",
       "      <td>Swimwear</td>\n",
       "      <td>1</td>\n",
       "      <td>1</td>\n",
       "      <td>ACTIVE</td>\n",
       "      <td>REGULARLY</td>\n",
       "      <td>2020</td>\n",
       "      <td>Spring</td>\n",
       "      <td>100~199元</td>\n",
       "      <td>一般</td>\n",
       "    </tr>\n",
       "    <tr>\n",
       "      <th>20376</th>\n",
       "      <td>794538001</td>\n",
       "      <td>1</td>\n",
       "      <td>Garment Upper body</td>\n",
       "      <td>Solid</td>\n",
       "      <td>White</td>\n",
       "      <td>Knitwear</td>\n",
       "      <td>Womens Everyday Collection</td>\n",
       "      <td>Knitwear</td>\n",
       "      <td>0</td>\n",
       "      <td>0</td>\n",
       "      <td>ACTIVE</td>\n",
       "      <td>NONE</td>\n",
       "      <td>2019</td>\n",
       "      <td>Fall</td>\n",
       "      <td>400~499元</td>\n",
       "      <td>一般</td>\n",
       "    </tr>\n",
       "    <tr>\n",
       "      <th>...</th>\n",
       "      <td>...</td>\n",
       "      <td>...</td>\n",
       "      <td>...</td>\n",
       "      <td>...</td>\n",
       "      <td>...</td>\n",
       "      <td>...</td>\n",
       "      <td>...</td>\n",
       "      <td>...</td>\n",
       "      <td>...</td>\n",
       "      <td>...</td>\n",
       "      <td>...</td>\n",
       "      <td>...</td>\n",
       "      <td>...</td>\n",
       "      <td>...</td>\n",
       "      <td>...</td>\n",
       "      <td>...</td>\n",
       "    </tr>\n",
       "    <tr>\n",
       "      <th>176</th>\n",
       "      <td>796248001</td>\n",
       "      <td>2</td>\n",
       "      <td>Garment Upper body</td>\n",
       "      <td>Melange</td>\n",
       "      <td>Off White</td>\n",
       "      <td>Campaigns</td>\n",
       "      <td>Womens Everyday Collection</td>\n",
       "      <td>Special Offers</td>\n",
       "      <td>0</td>\n",
       "      <td>0</td>\n",
       "      <td>ACTIVE</td>\n",
       "      <td>NONE</td>\n",
       "      <td>2019</td>\n",
       "      <td>Fall</td>\n",
       "      <td>200~299元</td>\n",
       "      <td>冷門</td>\n",
       "    </tr>\n",
       "    <tr>\n",
       "      <th>16955</th>\n",
       "      <td>826776001</td>\n",
       "      <td>2</td>\n",
       "      <td>Garment Lower body</td>\n",
       "      <td>Check</td>\n",
       "      <td>Black</td>\n",
       "      <td>Trouser</td>\n",
       "      <td>Womens Everyday Collection</td>\n",
       "      <td>Trousers</td>\n",
       "      <td>1</td>\n",
       "      <td>0</td>\n",
       "      <td>ACTIVE</td>\n",
       "      <td>NONE</td>\n",
       "      <td>2019</td>\n",
       "      <td>Winter</td>\n",
       "      <td>500~599元</td>\n",
       "      <td>一般</td>\n",
       "    </tr>\n",
       "    <tr>\n",
       "      <th>84769</th>\n",
       "      <td>547780002</td>\n",
       "      <td>1</td>\n",
       "      <td>Garment Lower body</td>\n",
       "      <td>Melange</td>\n",
       "      <td>Black</td>\n",
       "      <td>Basic 1</td>\n",
       "      <td>Divided Basics</td>\n",
       "      <td>Jersey Basic</td>\n",
       "      <td>0</td>\n",
       "      <td>0</td>\n",
       "      <td>ACTIVE</td>\n",
       "      <td>NONE</td>\n",
       "      <td>2020</td>\n",
       "      <td>Summer</td>\n",
       "      <td>200~299元</td>\n",
       "      <td>熱門</td>\n",
       "    </tr>\n",
       "    <tr>\n",
       "      <th>8674</th>\n",
       "      <td>743594003</td>\n",
       "      <td>2</td>\n",
       "      <td>Garment Full body</td>\n",
       "      <td>Solid</td>\n",
       "      <td>White</td>\n",
       "      <td>Dress</td>\n",
       "      <td>Womens Everyday Collection</td>\n",
       "      <td>Dresses Ladies</td>\n",
       "      <td>1</td>\n",
       "      <td>1</td>\n",
       "      <td>ACTIVE</td>\n",
       "      <td>REGULARLY</td>\n",
       "      <td>2019</td>\n",
       "      <td>Summer</td>\n",
       "      <td>300~399元</td>\n",
       "      <td>冷門</td>\n",
       "    </tr>\n",
       "    <tr>\n",
       "      <th>36147</th>\n",
       "      <td>711053009</td>\n",
       "      <td>1</td>\n",
       "      <td>Garment Upper body</td>\n",
       "      <td>Solid</td>\n",
       "      <td>Pink</td>\n",
       "      <td>Basic 1</td>\n",
       "      <td>Divided Basics</td>\n",
       "      <td>Jersey Basic</td>\n",
       "      <td>1</td>\n",
       "      <td>1</td>\n",
       "      <td>ACTIVE</td>\n",
       "      <td>REGULARLY</td>\n",
       "      <td>2019</td>\n",
       "      <td>Summer</td>\n",
       "      <td>100~199元</td>\n",
       "      <td>熱門</td>\n",
       "    </tr>\n",
       "  </tbody>\n",
       "</table>\n",
       "<p>95084 rows × 16 columns</p>\n",
       "</div>"
      ],
      "text/plain": [
       "       article_id  sales_channel_id  product_group_name  \\\n",
       "39449   562245102                 2  Garment Lower body   \n",
       "76788   770315006                 1  Garment Upper body   \n",
       "40519   738943003                 2  Garment Upper body   \n",
       "26443   688537005                 2            Swimwear   \n",
       "20376   794538001                 1  Garment Upper body   \n",
       "...           ...               ...                 ...   \n",
       "176     796248001                 2  Garment Upper body   \n",
       "16955   826776001                 2  Garment Lower body   \n",
       "84769   547780002                 1  Garment Lower body   \n",
       "8674    743594003                 2   Garment Full body   \n",
       "36147   711053009                 1  Garment Upper body   \n",
       "\n",
       "      graphical_appearance_name colour_group_name department_name  \\\n",
       "39449                     Denim        Light Blue         Trouser   \n",
       "76788                     Solid             White          Jersey   \n",
       "40519                   Melange     Greyish Beige        Knitwear   \n",
       "26443                    Stripe         Dark Blue        Swimwear   \n",
       "20376                     Solid             White        Knitwear   \n",
       "...                         ...               ...             ...   \n",
       "176                     Melange         Off White       Campaigns   \n",
       "16955                     Check             Black         Trouser   \n",
       "84769                   Melange             Black         Basic 1   \n",
       "8674                      Solid             White           Dress   \n",
       "36147                     Solid              Pink         Basic 1   \n",
       "\n",
       "                     section_name garment_group_name  FN  Active  \\\n",
       "39449  Womens Everyday Collection           Trousers   0       0   \n",
       "76788            Womens Tailoring       Jersey Fancy   1       1   \n",
       "40519  Womens Everyday Collection           Knitwear   0       0   \n",
       "26443  Womens Swimwear, beachwear           Swimwear   1       1   \n",
       "20376  Womens Everyday Collection           Knitwear   0       0   \n",
       "...                           ...                ...  ..     ...   \n",
       "176    Womens Everyday Collection     Special Offers   0       0   \n",
       "16955  Womens Everyday Collection           Trousers   1       0   \n",
       "84769              Divided Basics       Jersey Basic   0       0   \n",
       "8674   Womens Everyday Collection     Dresses Ladies   1       1   \n",
       "36147              Divided Basics       Jersey Basic   1       1   \n",
       "\n",
       "      club_member_status fashion_news_frequency  Year  season pricelabel  \\\n",
       "39449             ACTIVE                   NONE  2020  Spring   300~399元   \n",
       "76788             ACTIVE              REGULARLY  2020  Spring   100~199元   \n",
       "40519             ACTIVE                   NONE  2020  Winter   200~299元   \n",
       "26443             ACTIVE              REGULARLY  2020  Spring   100~199元   \n",
       "20376             ACTIVE                   NONE  2019    Fall   400~499元   \n",
       "...                  ...                    ...   ...     ...        ...   \n",
       "176               ACTIVE                   NONE  2019    Fall   200~299元   \n",
       "16955             ACTIVE                   NONE  2019  Winter   500~599元   \n",
       "84769             ACTIVE                   NONE  2020  Summer   200~299元   \n",
       "8674              ACTIVE              REGULARLY  2019  Summer   300~399元   \n",
       "36147             ACTIVE              REGULARLY  2019  Summer   100~199元   \n",
       "\n",
       "      salelabel  \n",
       "39449        一般  \n",
       "76788        冷門  \n",
       "40519        一般  \n",
       "26443        一般  \n",
       "20376        一般  \n",
       "...         ...  \n",
       "176          冷門  \n",
       "16955        一般  \n",
       "84769        熱門  \n",
       "8674         冷門  \n",
       "36147        熱門  \n",
       "\n",
       "[95084 rows x 16 columns]"
      ]
     },
     "execution_count": 2,
     "metadata": {},
     "output_type": "execute_result"
    }
   ],
   "source": [
    "pd.set_option('display.max_columns', None)\n",
    "df=pd.read_csv('0416_機器學習.csv')\n",
    "from sklearn.utils import shuffle\n",
    "df=shuffle(df)\n",
    "df"
   ]
  },
  {
   "cell_type": "markdown",
   "id": "47245d9a",
   "metadata": {},
   "source": [
    "# 增加特徵並移除不重要特徵"
   ]
  },
  {
   "cell_type": "code",
   "execution_count": 3,
   "id": "afd02ab0",
   "metadata": {
    "id": "afd02ab0"
   },
   "outputs": [],
   "source": [
    "df=df.drop('department_name',axis=1) #沒刪乾淨 之後確定"
   ]
  },
  {
   "cell_type": "code",
   "execution_count": 4,
   "id": "71bd7b11",
   "metadata": {
    "id": "71bd7b11"
   },
   "outputs": [],
   "source": [
    "df=df.drop('FN',axis=1)"
   ]
  },
  {
   "cell_type": "code",
   "execution_count": 5,
   "id": "2012c5ed",
   "metadata": {
    "id": "2012c5ed"
   },
   "outputs": [],
   "source": [
    "df=df.drop('Active',axis=1)"
   ]
  },
  {
   "cell_type": "code",
   "execution_count": 6,
   "id": "40595c00",
   "metadata": {
    "id": "40595c00"
   },
   "outputs": [],
   "source": [
    "df=df.drop('club_member_status',axis=1)"
   ]
  },
  {
   "cell_type": "code",
   "execution_count": 7,
   "id": "f95a55fd",
   "metadata": {
    "id": "f95a55fd"
   },
   "outputs": [],
   "source": [
    "df=df.drop('fashion_news_frequency',axis=1)"
   ]
  },
  {
   "cell_type": "code",
   "execution_count": 8,
   "id": "c5057a48",
   "metadata": {
    "colab": {
     "base_uri": "https://localhost:8080/",
     "height": 730
    },
    "executionInfo": {
     "elapsed": 36,
     "status": "ok",
     "timestamp": 1650170934487,
     "user": {
      "displayName": "gst g",
      "userId": "12328799786375158090"
     },
     "user_tz": -480
    },
    "id": "c5057a48",
    "outputId": "0531cbdd-d868-43ff-e20c-bfe5b71f0d87"
   },
   "outputs": [
    {
     "data": {
      "text/html": [
       "<div>\n",
       "<style scoped>\n",
       "    .dataframe tbody tr th:only-of-type {\n",
       "        vertical-align: middle;\n",
       "    }\n",
       "\n",
       "    .dataframe tbody tr th {\n",
       "        vertical-align: top;\n",
       "    }\n",
       "\n",
       "    .dataframe thead th {\n",
       "        text-align: right;\n",
       "    }\n",
       "</style>\n",
       "<table border=\"1\" class=\"dataframe\">\n",
       "  <thead>\n",
       "    <tr style=\"text-align: right;\">\n",
       "      <th></th>\n",
       "      <th>article_id</th>\n",
       "      <th>sales_channel_id</th>\n",
       "      <th>product_group_name</th>\n",
       "      <th>graphical_appearance_name</th>\n",
       "      <th>colour_group_name</th>\n",
       "      <th>section_name</th>\n",
       "      <th>garment_group_name</th>\n",
       "      <th>Year</th>\n",
       "      <th>season</th>\n",
       "      <th>pricelabel</th>\n",
       "      <th>salelabel</th>\n",
       "    </tr>\n",
       "  </thead>\n",
       "  <tbody>\n",
       "    <tr>\n",
       "      <th>39449</th>\n",
       "      <td>562245102</td>\n",
       "      <td>2</td>\n",
       "      <td>Garment Lower body</td>\n",
       "      <td>Denim</td>\n",
       "      <td>Light Blue</td>\n",
       "      <td>Womens Everyday Collection</td>\n",
       "      <td>Trousers</td>\n",
       "      <td>2020</td>\n",
       "      <td>Spring</td>\n",
       "      <td>300~399元</td>\n",
       "      <td>一般</td>\n",
       "    </tr>\n",
       "    <tr>\n",
       "      <th>76788</th>\n",
       "      <td>770315006</td>\n",
       "      <td>1</td>\n",
       "      <td>Garment Upper body</td>\n",
       "      <td>Solid</td>\n",
       "      <td>White</td>\n",
       "      <td>Womens Tailoring</td>\n",
       "      <td>Jersey Fancy</td>\n",
       "      <td>2020</td>\n",
       "      <td>Spring</td>\n",
       "      <td>100~199元</td>\n",
       "      <td>冷門</td>\n",
       "    </tr>\n",
       "    <tr>\n",
       "      <th>40519</th>\n",
       "      <td>738943003</td>\n",
       "      <td>2</td>\n",
       "      <td>Garment Upper body</td>\n",
       "      <td>Melange</td>\n",
       "      <td>Greyish Beige</td>\n",
       "      <td>Womens Everyday Collection</td>\n",
       "      <td>Knitwear</td>\n",
       "      <td>2020</td>\n",
       "      <td>Winter</td>\n",
       "      <td>200~299元</td>\n",
       "      <td>一般</td>\n",
       "    </tr>\n",
       "    <tr>\n",
       "      <th>26443</th>\n",
       "      <td>688537005</td>\n",
       "      <td>2</td>\n",
       "      <td>Swimwear</td>\n",
       "      <td>Stripe</td>\n",
       "      <td>Dark Blue</td>\n",
       "      <td>Womens Swimwear, beachwear</td>\n",
       "      <td>Swimwear</td>\n",
       "      <td>2020</td>\n",
       "      <td>Spring</td>\n",
       "      <td>100~199元</td>\n",
       "      <td>一般</td>\n",
       "    </tr>\n",
       "    <tr>\n",
       "      <th>20376</th>\n",
       "      <td>794538001</td>\n",
       "      <td>1</td>\n",
       "      <td>Garment Upper body</td>\n",
       "      <td>Solid</td>\n",
       "      <td>White</td>\n",
       "      <td>Womens Everyday Collection</td>\n",
       "      <td>Knitwear</td>\n",
       "      <td>2019</td>\n",
       "      <td>Fall</td>\n",
       "      <td>400~499元</td>\n",
       "      <td>一般</td>\n",
       "    </tr>\n",
       "    <tr>\n",
       "      <th>...</th>\n",
       "      <td>...</td>\n",
       "      <td>...</td>\n",
       "      <td>...</td>\n",
       "      <td>...</td>\n",
       "      <td>...</td>\n",
       "      <td>...</td>\n",
       "      <td>...</td>\n",
       "      <td>...</td>\n",
       "      <td>...</td>\n",
       "      <td>...</td>\n",
       "      <td>...</td>\n",
       "    </tr>\n",
       "    <tr>\n",
       "      <th>176</th>\n",
       "      <td>796248001</td>\n",
       "      <td>2</td>\n",
       "      <td>Garment Upper body</td>\n",
       "      <td>Melange</td>\n",
       "      <td>Off White</td>\n",
       "      <td>Womens Everyday Collection</td>\n",
       "      <td>Special Offers</td>\n",
       "      <td>2019</td>\n",
       "      <td>Fall</td>\n",
       "      <td>200~299元</td>\n",
       "      <td>冷門</td>\n",
       "    </tr>\n",
       "    <tr>\n",
       "      <th>16955</th>\n",
       "      <td>826776001</td>\n",
       "      <td>2</td>\n",
       "      <td>Garment Lower body</td>\n",
       "      <td>Check</td>\n",
       "      <td>Black</td>\n",
       "      <td>Womens Everyday Collection</td>\n",
       "      <td>Trousers</td>\n",
       "      <td>2019</td>\n",
       "      <td>Winter</td>\n",
       "      <td>500~599元</td>\n",
       "      <td>一般</td>\n",
       "    </tr>\n",
       "    <tr>\n",
       "      <th>84769</th>\n",
       "      <td>547780002</td>\n",
       "      <td>1</td>\n",
       "      <td>Garment Lower body</td>\n",
       "      <td>Melange</td>\n",
       "      <td>Black</td>\n",
       "      <td>Divided Basics</td>\n",
       "      <td>Jersey Basic</td>\n",
       "      <td>2020</td>\n",
       "      <td>Summer</td>\n",
       "      <td>200~299元</td>\n",
       "      <td>熱門</td>\n",
       "    </tr>\n",
       "    <tr>\n",
       "      <th>8674</th>\n",
       "      <td>743594003</td>\n",
       "      <td>2</td>\n",
       "      <td>Garment Full body</td>\n",
       "      <td>Solid</td>\n",
       "      <td>White</td>\n",
       "      <td>Womens Everyday Collection</td>\n",
       "      <td>Dresses Ladies</td>\n",
       "      <td>2019</td>\n",
       "      <td>Summer</td>\n",
       "      <td>300~399元</td>\n",
       "      <td>冷門</td>\n",
       "    </tr>\n",
       "    <tr>\n",
       "      <th>36147</th>\n",
       "      <td>711053009</td>\n",
       "      <td>1</td>\n",
       "      <td>Garment Upper body</td>\n",
       "      <td>Solid</td>\n",
       "      <td>Pink</td>\n",
       "      <td>Divided Basics</td>\n",
       "      <td>Jersey Basic</td>\n",
       "      <td>2019</td>\n",
       "      <td>Summer</td>\n",
       "      <td>100~199元</td>\n",
       "      <td>熱門</td>\n",
       "    </tr>\n",
       "  </tbody>\n",
       "</table>\n",
       "<p>95084 rows × 11 columns</p>\n",
       "</div>"
      ],
      "text/plain": [
       "       article_id  sales_channel_id  product_group_name  \\\n",
       "39449   562245102                 2  Garment Lower body   \n",
       "76788   770315006                 1  Garment Upper body   \n",
       "40519   738943003                 2  Garment Upper body   \n",
       "26443   688537005                 2            Swimwear   \n",
       "20376   794538001                 1  Garment Upper body   \n",
       "...           ...               ...                 ...   \n",
       "176     796248001                 2  Garment Upper body   \n",
       "16955   826776001                 2  Garment Lower body   \n",
       "84769   547780002                 1  Garment Lower body   \n",
       "8674    743594003                 2   Garment Full body   \n",
       "36147   711053009                 1  Garment Upper body   \n",
       "\n",
       "      graphical_appearance_name colour_group_name                section_name  \\\n",
       "39449                     Denim        Light Blue  Womens Everyday Collection   \n",
       "76788                     Solid             White            Womens Tailoring   \n",
       "40519                   Melange     Greyish Beige  Womens Everyday Collection   \n",
       "26443                    Stripe         Dark Blue  Womens Swimwear, beachwear   \n",
       "20376                     Solid             White  Womens Everyday Collection   \n",
       "...                         ...               ...                         ...   \n",
       "176                     Melange         Off White  Womens Everyday Collection   \n",
       "16955                     Check             Black  Womens Everyday Collection   \n",
       "84769                   Melange             Black              Divided Basics   \n",
       "8674                      Solid             White  Womens Everyday Collection   \n",
       "36147                     Solid              Pink              Divided Basics   \n",
       "\n",
       "      garment_group_name  Year  season pricelabel salelabel  \n",
       "39449           Trousers  2020  Spring   300~399元        一般  \n",
       "76788       Jersey Fancy  2020  Spring   100~199元        冷門  \n",
       "40519           Knitwear  2020  Winter   200~299元        一般  \n",
       "26443           Swimwear  2020  Spring   100~199元        一般  \n",
       "20376           Knitwear  2019    Fall   400~499元        一般  \n",
       "...                  ...   ...     ...        ...       ...  \n",
       "176       Special Offers  2019    Fall   200~299元        冷門  \n",
       "16955           Trousers  2019  Winter   500~599元        一般  \n",
       "84769       Jersey Basic  2020  Summer   200~299元        熱門  \n",
       "8674      Dresses Ladies  2019  Summer   300~399元        冷門  \n",
       "36147       Jersey Basic  2019  Summer   100~199元        熱門  \n",
       "\n",
       "[95084 rows x 11 columns]"
      ]
     },
     "execution_count": 8,
     "metadata": {},
     "output_type": "execute_result"
    }
   ],
   "source": [
    "df"
   ]
  },
  {
   "cell_type": "markdown",
   "id": "f6b026b6",
   "metadata": {
    "id": "f6b026b6"
   },
   "source": [
    "# 開始訓練"
   ]
  },
  {
   "cell_type": "code",
   "execution_count": 9,
   "id": "2fc19b2e",
   "metadata": {
    "colab": {
     "base_uri": "https://localhost:8080/",
     "height": 270
    },
    "executionInfo": {
     "elapsed": 270,
     "status": "ok",
     "timestamp": 1650170934724,
     "user": {
      "displayName": "gst g",
      "userId": "12328799786375158090"
     },
     "user_tz": -480
    },
    "id": "2fc19b2e",
    "outputId": "2d576594-a223-4a67-b268-21a4ce760491"
   },
   "outputs": [
    {
     "data": {
      "text/html": [
       "<div>\n",
       "<style scoped>\n",
       "    .dataframe tbody tr th:only-of-type {\n",
       "        vertical-align: middle;\n",
       "    }\n",
       "\n",
       "    .dataframe tbody tr th {\n",
       "        vertical-align: top;\n",
       "    }\n",
       "\n",
       "    .dataframe thead th {\n",
       "        text-align: right;\n",
       "    }\n",
       "</style>\n",
       "<table border=\"1\" class=\"dataframe\">\n",
       "  <thead>\n",
       "    <tr style=\"text-align: right;\">\n",
       "      <th></th>\n",
       "      <th>article_id</th>\n",
       "      <th>sales_channel_id</th>\n",
       "      <th>product_group_name</th>\n",
       "      <th>graphical_appearance_name</th>\n",
       "      <th>colour_group_name</th>\n",
       "      <th>section_name</th>\n",
       "      <th>garment_group_name</th>\n",
       "      <th>Year</th>\n",
       "      <th>season</th>\n",
       "      <th>pricelabel</th>\n",
       "      <th>salelabel</th>\n",
       "    </tr>\n",
       "  </thead>\n",
       "  <tbody>\n",
       "    <tr>\n",
       "      <th>39449</th>\n",
       "      <td>562245102</td>\n",
       "      <td>2</td>\n",
       "      <td>2</td>\n",
       "      <td>5</td>\n",
       "      <td>20</td>\n",
       "      <td>20</td>\n",
       "      <td>15</td>\n",
       "      <td>2</td>\n",
       "      <td>1</td>\n",
       "      <td>3</td>\n",
       "      <td>0</td>\n",
       "    </tr>\n",
       "    <tr>\n",
       "      <th>76788</th>\n",
       "      <td>770315006</td>\n",
       "      <td>1</td>\n",
       "      <td>3</td>\n",
       "      <td>19</td>\n",
       "      <td>40</td>\n",
       "      <td>27</td>\n",
       "      <td>5</td>\n",
       "      <td>2</td>\n",
       "      <td>1</td>\n",
       "      <td>1</td>\n",
       "      <td>1</td>\n",
       "    </tr>\n",
       "    <tr>\n",
       "      <th>40519</th>\n",
       "      <td>738943003</td>\n",
       "      <td>2</td>\n",
       "      <td>3</td>\n",
       "      <td>12</td>\n",
       "      <td>18</td>\n",
       "      <td>20</td>\n",
       "      <td>6</td>\n",
       "      <td>2</td>\n",
       "      <td>3</td>\n",
       "      <td>2</td>\n",
       "      <td>0</td>\n",
       "    </tr>\n",
       "    <tr>\n",
       "      <th>26443</th>\n",
       "      <td>688537005</td>\n",
       "      <td>2</td>\n",
       "      <td>7</td>\n",
       "      <td>20</td>\n",
       "      <td>5</td>\n",
       "      <td>26</td>\n",
       "      <td>14</td>\n",
       "      <td>2</td>\n",
       "      <td>1</td>\n",
       "      <td>1</td>\n",
       "      <td>0</td>\n",
       "    </tr>\n",
       "    <tr>\n",
       "      <th>20376</th>\n",
       "      <td>794538001</td>\n",
       "      <td>1</td>\n",
       "      <td>3</td>\n",
       "      <td>19</td>\n",
       "      <td>40</td>\n",
       "      <td>20</td>\n",
       "      <td>6</td>\n",
       "      <td>1</td>\n",
       "      <td>0</td>\n",
       "      <td>4</td>\n",
       "      <td>0</td>\n",
       "    </tr>\n",
       "  </tbody>\n",
       "</table>\n",
       "</div>"
      ],
      "text/plain": [
       "       article_id  sales_channel_id  product_group_name  \\\n",
       "39449   562245102                 2                   2   \n",
       "76788   770315006                 1                   3   \n",
       "40519   738943003                 2                   3   \n",
       "26443   688537005                 2                   7   \n",
       "20376   794538001                 1                   3   \n",
       "\n",
       "       graphical_appearance_name  colour_group_name  section_name  \\\n",
       "39449                          5                 20            20   \n",
       "76788                         19                 40            27   \n",
       "40519                         12                 18            20   \n",
       "26443                         20                  5            26   \n",
       "20376                         19                 40            20   \n",
       "\n",
       "       garment_group_name  Year  season  pricelabel  salelabel  \n",
       "39449                  15     2       1           3          0  \n",
       "76788                   5     2       1           1          1  \n",
       "40519                   6     2       3           2          0  \n",
       "26443                  14     2       1           1          0  \n",
       "20376                   6     1       0           4          0  "
      ]
     },
     "execution_count": 9,
     "metadata": {},
     "output_type": "execute_result"
    }
   ],
   "source": [
    "from sklearn.preprocessing import LabelEncoder #需要特徵都轉數值\n",
    "labelencoder = LabelEncoder()\n",
    "\n",
    "df['product_group_name']= labelencoder.fit_transform(df['product_group_name'])\n",
    "df['graphical_appearance_name']= labelencoder.fit_transform(df['graphical_appearance_name'])\n",
    "df['colour_group_name']= labelencoder.fit_transform(df['colour_group_name'])\n",
    "df['section_name']= labelencoder.fit_transform(df['section_name'])\n",
    "df['garment_group_name']= labelencoder.fit_transform(df['garment_group_name'])\n",
    "#以下實驗\n",
    "df['Year']= labelencoder.fit_transform(df['Year'])\n",
    "df['pricelabel']= labelencoder.fit_transform(df['pricelabel'])\n",
    "df['season']= labelencoder.fit_transform(df['season'])\n",
    "df['salelabel']= labelencoder.fit_transform(df['salelabel'])\n",
    "\n",
    "df.head()"
   ]
  },
  {
   "cell_type": "code",
   "execution_count": 10,
   "id": "4dca1b38",
   "metadata": {
    "id": "4dca1b38"
   },
   "outputs": [],
   "source": [
    "sdf=df"
   ]
  },
  {
   "cell_type": "code",
   "execution_count": 11,
   "id": "bec5ff6e",
   "metadata": {
    "colab": {
     "base_uri": "https://localhost:8080/"
    },
    "executionInfo": {
     "elapsed": 9,
     "status": "ok",
     "timestamp": 1650170934725,
     "user": {
      "displayName": "gst g",
      "userId": "12328799786375158090"
     },
     "user_tz": -480
    },
    "id": "bec5ff6e",
    "outputId": "89e20d5b-1c9d-448f-dc5c-bbc3aa332915"
   },
   "outputs": [
    {
     "name": "stdout",
     "output_type": "stream",
     "text": [
      "<class 'pandas.core.frame.DataFrame'>\n",
      "Int64Index: 95084 entries, 39449 to 36147\n",
      "Data columns (total 11 columns):\n",
      " #   Column                     Non-Null Count  Dtype\n",
      "---  ------                     --------------  -----\n",
      " 0   article_id                 95084 non-null  int32\n",
      " 1   sales_channel_id           95084 non-null  int32\n",
      " 2   product_group_name         95084 non-null  int32\n",
      " 3   graphical_appearance_name  95084 non-null  int32\n",
      " 4   colour_group_name          95084 non-null  int32\n",
      " 5   section_name               95084 non-null  int32\n",
      " 6   garment_group_name         95084 non-null  int32\n",
      " 7   Year                       95084 non-null  int32\n",
      " 8   season                     95084 non-null  int32\n",
      " 9   pricelabel                 95084 non-null  int32\n",
      " 10  salelabel                  95084 non-null  int32\n",
      "dtypes: int32(11)\n",
      "memory usage: 4.7 MB\n"
     ]
    }
   ],
   "source": [
    "#類型轉換瘦身 使機器學習運算更快\n",
    "sdf['garment_group_name']=sdf['garment_group_name'].astype('int32')\n",
    "sdf['section_name']=sdf['section_name'].astype('int32')\n",
    "sdf['colour_group_name']=sdf['colour_group_name'].astype('int32')\n",
    "sdf['graphical_appearance_name']=sdf['graphical_appearance_name'].astype('int32')\n",
    "sdf['product_group_name']=sdf['product_group_name'].astype('int32')\n",
    "sdf['sales_channel_id']=sdf['sales_channel_id'].astype('int32')\n",
    "sdf['article_id']=sdf['article_id'].astype('int32')\n",
    "\n",
    "sdf['Year']=sdf['Year'].astype('int32')\n",
    "sdf['season']=sdf['season'].astype('int32')\n",
    "sdf['pricelabel']=sdf['pricelabel'].astype('int32')\n",
    "sdf['salelabel']=sdf['salelabel'].astype('int32')\n",
    "\n",
    "sdf.info()"
   ]
  },
  {
   "cell_type": "code",
   "execution_count": 12,
   "id": "66dc358a",
   "metadata": {
    "id": "66dc358a"
   },
   "outputs": [],
   "source": [
    "#設定要預測的Y\n",
    "labels=sdf['article_id'] "
   ]
  },
  {
   "cell_type": "code",
   "execution_count": 13,
   "id": "4c888e60",
   "metadata": {
    "id": "4c888e60"
   },
   "outputs": [],
   "source": [
    "#移除要預測的Y 表就只剩下X\n",
    "sdf=sdf.drop('article_id',axis=1) "
   ]
  },
  {
   "cell_type": "code",
   "execution_count": 14,
   "id": "b628831f",
   "metadata": {
    "id": "b628831f"
   },
   "outputs": [],
   "source": [
    "#訓練集、測試集分割\n",
    "import tensorflow as tf \n",
    "from sklearn.model_selection import train_test_split\n",
    "X_train, X_test, y_train, y_test = train_test_split(sdf, labels,test_size=0.2, random_state=80) "
   ]
  },
  {
   "cell_type": "markdown",
   "id": "ae89e9da",
   "metadata": {
    "id": "ae89e9da"
   },
   "source": [
    "# xgboost"
   ]
  },
  {
   "cell_type": "code",
   "execution_count": 15,
   "id": "63fb583b",
   "metadata": {
    "id": "63fb583b"
   },
   "outputs": [
    {
     "name": "stderr",
     "output_type": "stream",
     "text": [
      "C:\\ProgramData\\Anaconda3\\lib\\site-packages\\xgboost\\compat.py:36: FutureWarning: pandas.Int64Index is deprecated and will be removed from pandas in a future version. Use pandas.Index with the appropriate dtype instead.\n",
      "  from pandas import MultiIndex, Int64Index\n"
     ]
    }
   ],
   "source": [
    "from xgboost.sklearn import XGBClassifier\n",
    "xgbc = XGBClassifier(        \n",
    "        n_estimators=8,     #樹的個數\n",
    "        learning_rate= 0.1,    # 如同學習率 \n",
    "        max_depth=15,       # 構建樹的深度，越大越容易過擬合    \n",
    "        subsample=1,         # 隨機取樣訓練樣本 訓練例項的子取樣比\n",
    "        gamma=0,         # 用於控制是否後剪枝的引數,越大越保守，一般0.1、0.2這樣子\n",
    "        reg_lambda=1,          # 控制模型複雜度的權重值的L2正則化項引數，引數越大，模型越不容易過擬合。\n",
    "        max_delta_step=0,        #最大增量步長，我們允許每個樹的權重估計。\n",
    "        colsample_bytree=1,         # 生成樹時進行的列取樣 \n",
    "        min_child_weight=1, \n",
    "                     # 這個引數預設是 1，是每個葉子裡面 h 的和至少是多少，對正負樣本不均衡時的 0-1 分類而言\n",
    "                     # 假設 h 在 0.01 附近，min_child_weight 為 1 意味著葉子節點中最少需要包含 100 個樣本。\n",
    "                     #這個引數非常影響結果，控制葉子節點中二階導的和的最小值，該引數值越小，越容易 overfitting。\n",
    "        seed=1000         #隨機種子\n",
    "#        reg_alpha=0,        # L1 正則項引數\n",
    "        #scale_pos_weight=1,        #如果取值大於0的話，在類別樣本不平衡的情況下有助於快速收斂。平衡正負權重\n",
    "        #objective= 'multi:softmax',         #多分類的問題 指定學習任務和相應的學習目標\n",
    "        #num_class=10,        # 類別數，多分類與 multisoftmax 並用\n",
    "#        silent=0 ,        # 設定成1則沒有執行資訊輸出，最好是設定為0.是否在執行升級時列印訊息。\n",
    "#        nthread=4,        # cpu 執行緒數 預設最大\n",
    "        #eval_metric= 'auc'\n",
    ")\n"
   ]
  },
  {
   "cell_type": "code",
   "execution_count": 16,
   "id": "d4061bbc",
   "metadata": {
    "colab": {
     "background_save": true
    },
    "id": "d4061bbc",
    "outputId": "33a7dbb0-a882-46b9-ef49-5ab0c2027cef"
   },
   "outputs": [
    {
     "name": "stderr",
     "output_type": "stream",
     "text": [
      "C:\\ProgramData\\Anaconda3\\lib\\site-packages\\xgboost\\sklearn.py:1224: UserWarning: The use of label encoder in XGBClassifier is deprecated and will be removed in a future release. To remove this warning, do the following: 1) Pass option use_label_encoder=False when constructing XGBClassifier object; and 2) Encode your labels (y) as integers starting with 0, i.e. 0, 1, 2, ..., [num_class - 1].\n",
      "  warnings.warn(label_encoder_deprecation_msg, UserWarning)\n",
      "C:\\ProgramData\\Anaconda3\\lib\\site-packages\\xgboost\\data.py:250: FutureWarning: pandas.Int64Index is deprecated and will be removed from pandas in a future version. Use pandas.Index with the appropriate dtype instead.\n",
      "  elif isinstance(data.columns, (pd.Int64Index, pd.RangeIndex)):\n"
     ]
    },
    {
     "name": "stdout",
     "output_type": "stream",
     "text": [
      "[11:25:06] WARNING: ..\\src\\learner.cc:1115: Starting in XGBoost 1.3.0, the default evaluation metric used with the objective 'multi:softprob' was changed from 'merror' to 'mlogloss'. Explicitly set eval_metric if you'd like to restore the old behavior.\n",
      "[351484026 636207006 565379023 ... 564334002 739953002 811887001]\n"
     ]
    }
   ],
   "source": [
    "xgbc.fit(X_train, y_train) #模型訓練\n",
    "XGB_pred=xgbc.predict(X_test) #模型去預測X_test\n",
    "print(XGB_pred) #此為根據X_test預測出的Y"
   ]
  },
  {
   "cell_type": "code",
   "execution_count": 17,
   "id": "a1c2aa0f",
   "metadata": {
    "colab": {
     "background_save": true
    },
    "id": "a1c2aa0f",
    "outputId": "f9e3a815-a441-47d2-cdc3-9d1b791b7376"
   },
   "outputs": [
    {
     "name": "stdout",
     "output_type": "stream",
     "text": [
      "0.8171348942379744\n"
     ]
    }
   ],
   "source": [
    "XGBtrain_score=xgbc.score(X_train, y_train)\n",
    "print(XGBtrain_score) #X與Y訓練集的準確率"
   ]
  },
  {
   "cell_type": "code",
   "execution_count": 18,
   "id": "a3ff9d04",
   "metadata": {
    "colab": {
     "background_save": true
    },
    "id": "a3ff9d04",
    "outputId": "a3a95d8e-bebd-404e-94e1-bcbc36a9efe6"
   },
   "outputs": [
    {
     "name": "stdout",
     "output_type": "stream",
     "text": [
      "The Accuracy of XGBOOST Classifier on testing set: 0.79802282168586\n"
     ]
    }
   ],
   "source": [
    "XGBtest_score=xgbc.score(X_test,y_test)\n",
    "print('The Accuracy of XGBOOST Classifier on testing set:', XGBtest_score) #X與Y測試集的準確率"
   ]
  },
  {
   "cell_type": "code",
   "execution_count": 19,
   "id": "7606a59e",
   "metadata": {
    "colab": {
     "background_save": true
    },
    "id": "7606a59e"
   },
   "outputs": [],
   "source": [
    "# 達到一定標準證明模型準確可以使用\n",
    "# 只要再製造X_test 就可以print(XGB_pred)得到要的Y"
   ]
  },
  {
   "cell_type": "code",
   "execution_count": 20,
   "id": "fff745e7",
   "metadata": {
    "colab": {
     "background_save": true
    },
    "id": "fff745e7",
    "outputId": "dc7f8a1a-492e-42b5-dbdc-5f8a4c13cd4e",
    "scrolled": true
   },
   "outputs": [
    {
     "data": {
      "text/html": [
       "<div>\n",
       "<style scoped>\n",
       "    .dataframe tbody tr th:only-of-type {\n",
       "        vertical-align: middle;\n",
       "    }\n",
       "\n",
       "    .dataframe tbody tr th {\n",
       "        vertical-align: top;\n",
       "    }\n",
       "\n",
       "    .dataframe thead th {\n",
       "        text-align: right;\n",
       "    }\n",
       "</style>\n",
       "<table border=\"1\" class=\"dataframe\">\n",
       "  <thead>\n",
       "    <tr style=\"text-align: right;\">\n",
       "      <th></th>\n",
       "      <th>sales_channel_id</th>\n",
       "      <th>product_group_name</th>\n",
       "      <th>graphical_appearance_name</th>\n",
       "    </tr>\n",
       "  </thead>\n",
       "  <tbody>\n",
       "    <tr>\n",
       "      <th>0</th>\n",
       "      <td>線上</td>\n",
       "      <td>上衣</td>\n",
       "      <td>圓形</td>\n",
       "    </tr>\n",
       "  </tbody>\n",
       "</table>\n",
       "</div>"
      ],
      "text/plain": [
       "  sales_channel_id product_group_name graphical_appearance_name\n",
       "0               線上                 上衣                        圓形"
      ]
     },
     "execution_count": 20,
     "metadata": {},
     "output_type": "execute_result"
    }
   ],
   "source": [
    "#建立X_test架構====想法\n",
    "#填入網頁輸入內容連接的函式?\n",
    "\n",
    "請輸入購買管道=pd.Series('線上') #此為透過網頁輸入的資料\n",
    "請輸入想要類別=pd.Series('上衣') #此為透過網頁輸入的資料\n",
    "請輸入想要樣式=pd.Series('圓形') #此為透過網頁輸入的資料\n",
    "\n",
    "TestX=pd.DataFrame({'sales_channel_id':請輸入購買管道,\n",
    "                   'product_group_name':請輸入想要類別,\n",
    "                   'graphical_appearance_name':請輸入想要樣式})\n",
    "TestX"
   ]
  },
  {
   "cell_type": "code",
   "execution_count": 21,
   "id": "72dcd7e7",
   "metadata": {
    "colab": {
     "background_save": true
    },
    "id": "72dcd7e7"
   },
   "outputs": [],
   "source": [
    "#以上方想法請參考一條龍的檔案"
   ]
  },
  {
   "cell_type": "code",
   "execution_count": null,
   "id": "f4de91d6",
   "metadata": {},
   "outputs": [],
   "source": []
  },
  {
   "cell_type": "markdown",
   "id": "5b79277f",
   "metadata": {},
   "source": [
    "# c4.5"
   ]
  },
  {
   "cell_type": "code",
   "execution_count": 30,
   "id": "de91316d",
   "metadata": {},
   "outputs": [],
   "source": [
    "from sklearn.tree import DecisionTreeClassifier # Import Decision Tree Classifier\n",
    "from sklearn import metrics #Import scikit-learn metrics module for accuracy calculation"
   ]
  },
  {
   "cell_type": "code",
   "execution_count": 31,
   "id": "9b19e7de",
   "metadata": {},
   "outputs": [
    {
     "name": "stdout",
     "output_type": "stream",
     "text": [
      "[717490015 720504001 717490001 ... 717490015 717490001 590928022]\n"
     ]
    }
   ],
   "source": [
    "# Create Decision Tree classifer object\n",
    "CartC45 = DecisionTreeClassifier(criterion=\"gini\",max_depth=5,min_samples_leaf=20)  #CART-->gini c4.5-->entropy min_samples_leaf=20, max_depth=4\n",
    "\n",
    "# Train Decision Tree Classifer\n",
    "CartC45.fit(X_train,y_train)\n",
    "CartC45_pred =CartC45.predict(X_test)\n",
    "print(CartC45_pred)"
   ]
  },
  {
   "cell_type": "code",
   "execution_count": 32,
   "id": "7bf462b7",
   "metadata": {},
   "outputs": [
    {
     "name": "stdout",
     "output_type": "stream",
     "text": [
      "55321    351484026\n",
      "2126     720504001\n",
      "55715    565379023\n",
      "90166    186262001\n",
      "30801    562252010\n",
      "           ...    \n",
      "34482    664405005\n",
      "95028    554450026\n",
      "70504    564334002\n",
      "42502    712216001\n",
      "4787     811887001\n",
      "Name: article_id, Length: 19017, dtype: int32\n"
     ]
    }
   ],
   "source": [
    "print(y_test)"
   ]
  },
  {
   "cell_type": "code",
   "execution_count": 33,
   "id": "7270cb9a",
   "metadata": {},
   "outputs": [
    {
     "name": "stdout",
     "output_type": "stream",
     "text": [
      "0.01733997659957669\n"
     ]
    }
   ],
   "source": [
    "CartC45train_score=CartC45.score(X_train, y_train)\n",
    "print(CartC45train_score)"
   ]
  },
  {
   "cell_type": "code",
   "execution_count": 34,
   "id": "63eec7a0",
   "metadata": {},
   "outputs": [
    {
     "name": "stdout",
     "output_type": "stream",
     "text": [
      "The Accuracy of CART/C4.5 Classifier on testing set: 0.013987484881947732\n"
     ]
    }
   ],
   "source": [
    "CartC45test_score=CartC45.score(X_test,y_test)\n",
    "print('The Accuracy of CART/C4.5 Classifier on testing set:', CartC45test_score)"
   ]
  },
  {
   "cell_type": "code",
   "execution_count": null,
   "id": "09778fbd",
   "metadata": {},
   "outputs": [],
   "source": []
  },
  {
   "cell_type": "markdown",
   "id": "b05d9120",
   "metadata": {},
   "source": [
    "# EXTRA TREE"
   ]
  },
  {
   "cell_type": "code",
   "execution_count": 35,
   "id": "731ac79b",
   "metadata": {},
   "outputs": [],
   "source": [
    "from sklearn.ensemble import ExtraTreesClassifier\n",
    "ETreec = ExtraTreesClassifier(max_depth=5,n_estimators=100,criterion='gini')"
   ]
  },
  {
   "cell_type": "code",
   "execution_count": 36,
   "id": "296ec1d8",
   "metadata": {},
   "outputs": [
    {
     "name": "stdout",
     "output_type": "stream",
     "text": [
      "[351484026 720504001 772773001 ... 564334002 712216001 754404004]\n"
     ]
    }
   ],
   "source": [
    "ETreec.fit(X_train, y_train)\n",
    "ETree_pred=ETreec.predict(X_test)\n",
    "print(ETree_pred)"
   ]
  },
  {
   "cell_type": "code",
   "execution_count": 37,
   "id": "4d49eb81",
   "metadata": {},
   "outputs": [
    {
     "name": "stdout",
     "output_type": "stream",
     "text": [
      "0.5057515085385252\n"
     ]
    }
   ],
   "source": [
    "ETreetrain_score=ETreec.score(X_train, y_train)\n",
    "print(ETreetrain_score)"
   ]
  },
  {
   "cell_type": "code",
   "execution_count": 38,
   "id": "cfba5646",
   "metadata": {},
   "outputs": [
    {
     "name": "stdout",
     "output_type": "stream",
     "text": [
      "The Accuracy of ExtraTrees Classifier on testing set: 0.46090340221906717\n"
     ]
    }
   ],
   "source": [
    "ETreetest_score=ETreec.score(X_test,y_test)\n",
    "print('The Accuracy of ExtraTrees Classifier on testing set:', ETreetest_score)"
   ]
  },
  {
   "cell_type": "code",
   "execution_count": null,
   "id": "997dfa0d",
   "metadata": {},
   "outputs": [],
   "source": []
  },
  {
   "cell_type": "markdown",
   "id": "a2bcf43f",
   "metadata": {},
   "source": [
    "# DNN"
   ]
  },
  {
   "cell_type": "code",
   "execution_count": 43,
   "id": "03b1e15e",
   "metadata": {},
   "outputs": [],
   "source": [
    "from sklearn.neural_network import MLPClassifier\n",
    "DNN = MLPClassifier(hidden_layer_sizes=(5,5,5),  #預設值1層,數目100\n",
    "         activation='relu',  #{'identity'無，'logistic'為sigmoid，'tanh'，'relu'}，預設='relu'\n",
    "         solver='adam',   #{'lbfgs'牛頓，'sgd'隨機梯度，'adam'隨機梯度優化}，預設='adam'\n",
    "         batch_size='auto',  #'auto'為min(200～樣本數)\n",
    "         learning_rate='adaptive',  #constant固定'，'invscaling隨著時間遞減'，'adaptive誤差減少時不改變'}，預設 ='constant' \n",
    "         learning_rate_init=0.001, #優化器為sgd、adam使用\n",
    "         power_t=0.5,     # 優化器為sgd，則可以設定強化學習率   \n",
    "         max_iter=1000,    #訓練次數\n",
    "         shuffle=True,    #隨機設定權重\n",
    "         random_state=1,   #隨機的基礎值\n",
    "         momentum=0.9)"
   ]
  },
  {
   "cell_type": "code",
   "execution_count": 44,
   "id": "be0823ea",
   "metadata": {},
   "outputs": [
    {
     "data": {
      "text/plain": [
       "MLPClassifier(hidden_layer_sizes=(5, 5, 5), learning_rate='adaptive',\n",
       "              max_iter=1000, random_state=1)"
      ]
     },
     "execution_count": 44,
     "metadata": {},
     "output_type": "execute_result"
    }
   ],
   "source": [
    "# Sckit-Learn\n",
    "DNN.fit(X_train, y_train)\n",
    "\n",
    "\n"
   ]
  },
  {
   "cell_type": "code",
   "execution_count": 45,
   "id": "e6407466",
   "metadata": {},
   "outputs": [
    {
     "data": {
      "text/plain": [
       "array([351484026, 720504001, 565379023, ..., 564334002, 712216001,\n",
       "       754404004])"
      ]
     },
     "execution_count": 45,
     "metadata": {},
     "output_type": "execute_result"
    }
   ],
   "source": [
    "# Sckit-Learn\n",
    "DNN_pred = DNN.predict(X_test)\n",
    "DNN_pred"
   ]
  },
  {
   "cell_type": "code",
   "execution_count": 46,
   "id": "15640b51",
   "metadata": {},
   "outputs": [
    {
     "name": "stdout",
     "output_type": "stream",
     "text": [
      "The Accuracy of DNN Classifier on testing set: 0.507493295472472\n"
     ]
    }
   ],
   "source": [
    "DNNtest_score=DNN.score(X_test,y_test)\n",
    "print('The Accuracy of DNN Classifier on testing set:', DNNtest_score)"
   ]
  },
  {
   "cell_type": "code",
   "execution_count": null,
   "id": "b568947f",
   "metadata": {},
   "outputs": [],
   "source": []
  },
  {
   "cell_type": "markdown",
   "id": "a15bfbce",
   "metadata": {},
   "source": [
    "# 隨機森林"
   ]
  },
  {
   "cell_type": "code",
   "execution_count": 40,
   "id": "489388d2",
   "metadata": {},
   "outputs": [],
   "source": [
    "from sklearn.ensemble import RandomForestClassifier\n",
    "\n",
    "# 建立 Random Forest Classifier 模型\n",
    "randomForestModel = RandomForestClassifier(n_estimators=100, criterion = 'gini')\n",
    "# 使用訓練資料訓練模型\n",
    "randomForestModel.fit(X_train, y_train)\n",
    "# 使用訓練資料預測分類\n",
    "predicted = randomForestModel.predict(X_train)"
   ]
  },
  {
   "cell_type": "code",
   "execution_count": 42,
   "id": "13aba2b1",
   "metadata": {},
   "outputs": [
    {
     "name": "stdout",
     "output_type": "stream",
     "text": [
      "訓練集:  0.8500138036204925\n",
      "測試集:  0.8217384445496135\n"
     ]
    }
   ],
   "source": [
    "print('訓練集: ',randomForestModel.score(X_train,y_train))\n",
    "print('測試集: ',randomForestModel.score(X_test,y_test))"
   ]
  },
  {
   "cell_type": "code",
   "execution_count": null,
   "id": "8bf2f906",
   "metadata": {},
   "outputs": [],
   "source": []
  },
  {
   "cell_type": "code",
   "execution_count": null,
   "id": "e0ae890a",
   "metadata": {},
   "outputs": [],
   "source": []
  },
  {
   "cell_type": "markdown",
   "id": "71a2c1f8",
   "metadata": {},
   "source": [
    "# catboost"
   ]
  },
  {
   "cell_type": "code",
   "execution_count": 23,
   "id": "0609741c",
   "metadata": {},
   "outputs": [
    {
     "data": {
      "application/vnd.jupyter.widget-view+json": {
       "model_id": "13f0934714b541db8f011d650b579d56",
       "version_major": 2,
       "version_minor": 0
      },
      "text/plain": [
       "MetricVisualizer(layout=Layout(align_self='stretch', height='500px'))"
      ]
     },
     "metadata": {},
     "output_type": "display_data"
    },
    {
     "data": {
      "text/plain": [
       "<catboost.core.CatBoostRegressor at 0x25a0ea45b20>"
      ]
     },
     "execution_count": 23,
     "metadata": {},
     "output_type": "execute_result"
    }
   ],
   "source": [
    "from catboost import CatBoostRegressor\n",
    "\n",
    "# 建立模型\n",
    "model02 = CatBoostRegressor(random_state=42,\n",
    "                         loss_function='RMSE',\n",
    "                         eval_metric='RMSE',\n",
    "                         use_best_model=True)\n",
    "# 使用訓練資料訓練模型\n",
    "model02.fit(X_train,y_train, eval_set=(X_test, y_test), verbose=0, plot=True)"
   ]
  },
  {
   "cell_type": "code",
   "execution_count": 24,
   "id": "c556ed7f",
   "metadata": {
    "scrolled": true
   },
   "outputs": [
    {
     "name": "stdout",
     "output_type": "stream",
     "text": [
      "0.738742776119474\n"
     ]
    }
   ],
   "source": [
    "model02_score=model02.score(X_train, y_train)\n",
    "print(model02_score) #X與Y訓練集的準確率"
   ]
  },
  {
   "cell_type": "code",
   "execution_count": 25,
   "id": "654a6616",
   "metadata": {},
   "outputs": [
    {
     "name": "stdout",
     "output_type": "stream",
     "text": [
      "The Accuracy of XGBOOST Classifier on testing set: 0.7349603363886696\n"
     ]
    }
   ],
   "source": [
    "model02_test_score=model02.score(X_test,y_test)\n",
    "print('The Accuracy of XGBOOST Classifier on testing set:', model02_test_score) #X與Y測試集的準確率"
   ]
  },
  {
   "cell_type": "code",
   "execution_count": null,
   "id": "268f1dab",
   "metadata": {},
   "outputs": [],
   "source": []
  }
 ],
 "metadata": {
  "accelerator": "TPU",
  "colab": {
   "name": "0416_To網頁.ipynb",
   "provenance": []
  },
  "kernelspec": {
   "display_name": "Python 3 (ipykernel)",
   "language": "python",
   "name": "python3"
  },
  "language_info": {
   "codemirror_mode": {
    "name": "ipython",
    "version": 3
   },
   "file_extension": ".py",
   "mimetype": "text/x-python",
   "name": "python",
   "nbconvert_exporter": "python",
   "pygments_lexer": "ipython3",
   "version": "3.8.5"
  },
  "toc": {
   "base_numbering": 1,
   "nav_menu": {},
   "number_sections": true,
   "sideBar": true,
   "skip_h1_title": false,
   "title_cell": "Table of Contents",
   "title_sidebar": "Contents",
   "toc_cell": false,
   "toc_position": {},
   "toc_section_display": true,
   "toc_window_display": false
  }
 },
 "nbformat": 4,
 "nbformat_minor": 5
}
