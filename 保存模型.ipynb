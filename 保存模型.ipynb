{
 "cells": [
  {
   "cell_type": "markdown",
   "id": "6c998455",
   "metadata": {},
   "source": [
    "# 載入套件"
   ]
  },
  {
   "cell_type": "code",
   "execution_count": 1,
   "id": "add3a9c2",
   "metadata": {},
   "outputs": [],
   "source": [
    "#!pip install tensorflow\n",
    "#!pip install xgboost"
   ]
  },
  {
   "cell_type": "code",
   "execution_count": 1,
   "id": "4a6f4576",
   "metadata": {},
   "outputs": [],
   "source": [
    "import numpy as np\n",
    "import pandas as pd\n",
    "import random\n",
    "import seaborn as sns\n",
    "import tensorflow\n",
    "from sklearn.preprocessing import LabelEncoder\n",
    "import matplotlib.pyplot as plt\n",
    "from tensorflow.keras import models\n",
    "from tensorflow.keras import layers\n",
    "from sklearn.metrics import accuracy_score,confusion_matrix"
   ]
  },
  {
   "cell_type": "code",
   "execution_count": 2,
   "id": "973e2edd",
   "metadata": {
    "scrolled": true
   },
   "outputs": [],
   "source": [
    "pd.set_option('display.max_columns', None)\n",
    "df=pd.read_csv('0416_機器學習.csv')\n",
    "from sklearn.utils import shuffle\n",
    "df=shuffle(df)\n"
   ]
  },
  {
   "cell_type": "code",
   "execution_count": 3,
   "id": "afd02ab0",
   "metadata": {},
   "outputs": [],
   "source": [
    "df=df.drop('department_name',axis=1) #沒刪乾淨 之後確定\n",
    "df=df.drop('fashion_news_frequency',axis=1)\n",
    "df=df.drop('FN',axis=1)\n",
    "df=df.drop('Active',axis=1)\n",
    "df=df.drop('club_member_status',axis=1)"
   ]
  },
  {
   "cell_type": "markdown",
   "id": "f6b026b6",
   "metadata": {},
   "source": [
    "# 開始訓練"
   ]
  },
  {
   "cell_type": "code",
   "execution_count": 4,
   "id": "2fc19b2e",
   "metadata": {},
   "outputs": [
    {
     "data": {
      "text/html": [
       "<div>\n",
       "<style scoped>\n",
       "    .dataframe tbody tr th:only-of-type {\n",
       "        vertical-align: middle;\n",
       "    }\n",
       "\n",
       "    .dataframe tbody tr th {\n",
       "        vertical-align: top;\n",
       "    }\n",
       "\n",
       "    .dataframe thead th {\n",
       "        text-align: right;\n",
       "    }\n",
       "</style>\n",
       "<table border=\"1\" class=\"dataframe\">\n",
       "  <thead>\n",
       "    <tr style=\"text-align: right;\">\n",
       "      <th></th>\n",
       "      <th>article_id</th>\n",
       "      <th>sales_channel_id</th>\n",
       "      <th>product_group_name</th>\n",
       "      <th>graphical_appearance_name</th>\n",
       "      <th>colour_group_name</th>\n",
       "      <th>section_name</th>\n",
       "      <th>garment_group_name</th>\n",
       "      <th>Year</th>\n",
       "      <th>season</th>\n",
       "      <th>pricelabel</th>\n",
       "      <th>salelabel</th>\n",
       "    </tr>\n",
       "  </thead>\n",
       "  <tbody>\n",
       "    <tr>\n",
       "      <th>29164</th>\n",
       "      <td>637549001</td>\n",
       "      <td>1</td>\n",
       "      <td>3</td>\n",
       "      <td>12</td>\n",
       "      <td>1</td>\n",
       "      <td>20</td>\n",
       "      <td>6</td>\n",
       "      <td>0</td>\n",
       "      <td>0</td>\n",
       "      <td>3</td>\n",
       "      <td>0</td>\n",
       "    </tr>\n",
       "    <tr>\n",
       "      <th>58693</th>\n",
       "      <td>542464004</td>\n",
       "      <td>2</td>\n",
       "      <td>7</td>\n",
       "      <td>0</td>\n",
       "      <td>0</td>\n",
       "      <td>26</td>\n",
       "      <td>14</td>\n",
       "      <td>1</td>\n",
       "      <td>3</td>\n",
       "      <td>2</td>\n",
       "      <td>0</td>\n",
       "    </tr>\n",
       "    <tr>\n",
       "      <th>69554</th>\n",
       "      <td>733029001</td>\n",
       "      <td>2</td>\n",
       "      <td>3</td>\n",
       "      <td>8</td>\n",
       "      <td>1</td>\n",
       "      <td>20</td>\n",
       "      <td>5</td>\n",
       "      <td>1</td>\n",
       "      <td>1</td>\n",
       "      <td>1</td>\n",
       "      <td>0</td>\n",
       "    </tr>\n",
       "    <tr>\n",
       "      <th>45284</th>\n",
       "      <td>723151001</td>\n",
       "      <td>2</td>\n",
       "      <td>3</td>\n",
       "      <td>20</td>\n",
       "      <td>20</td>\n",
       "      <td>5</td>\n",
       "      <td>1</td>\n",
       "      <td>1</td>\n",
       "      <td>1</td>\n",
       "      <td>1</td>\n",
       "      <td>0</td>\n",
       "    </tr>\n",
       "    <tr>\n",
       "      <th>11370</th>\n",
       "      <td>804992018</td>\n",
       "      <td>1</td>\n",
       "      <td>3</td>\n",
       "      <td>12</td>\n",
       "      <td>35</td>\n",
       "      <td>11</td>\n",
       "      <td>5</td>\n",
       "      <td>2</td>\n",
       "      <td>3</td>\n",
       "      <td>2</td>\n",
       "      <td>0</td>\n",
       "    </tr>\n",
       "  </tbody>\n",
       "</table>\n",
       "</div>"
      ],
      "text/plain": [
       "       article_id  sales_channel_id  product_group_name  \\\n",
       "29164   637549001                 1                   3   \n",
       "58693   542464004                 2                   7   \n",
       "69554   733029001                 2                   3   \n",
       "45284   723151001                 2                   3   \n",
       "11370   804992018                 1                   3   \n",
       "\n",
       "       graphical_appearance_name  colour_group_name  section_name  \\\n",
       "29164                         12                  1            20   \n",
       "58693                          0                  0            26   \n",
       "69554                          8                  1            20   \n",
       "45284                         20                 20             5   \n",
       "11370                         12                 35            11   \n",
       "\n",
       "       garment_group_name  Year  season  pricelabel  salelabel  \n",
       "29164                   6     0       0           3          0  \n",
       "58693                  14     1       3           2          0  \n",
       "69554                   5     1       1           1          0  \n",
       "45284                   1     1       1           1          0  \n",
       "11370                   5     2       3           2          0  "
      ]
     },
     "execution_count": 4,
     "metadata": {},
     "output_type": "execute_result"
    }
   ],
   "source": [
    "from sklearn.preprocessing import LabelEncoder #需要特徵都轉數值\n",
    "labelencoder = LabelEncoder()\n",
    "\n",
    "df['product_group_name']= labelencoder.fit_transform(df['product_group_name'])\n",
    "df['graphical_appearance_name']= labelencoder.fit_transform(df['graphical_appearance_name'])\n",
    "df['colour_group_name']= labelencoder.fit_transform(df['colour_group_name'])\n",
    "df['section_name']= labelencoder.fit_transform(df['section_name'])\n",
    "df['garment_group_name']= labelencoder.fit_transform(df['garment_group_name'])\n",
    "#以下實驗\n",
    "df['Year']= labelencoder.fit_transform(df['Year'])\n",
    "df['pricelabel']= labelencoder.fit_transform(df['pricelabel'])\n",
    "df['season']= labelencoder.fit_transform(df['season'])\n",
    "df['salelabel']= labelencoder.fit_transform(df['salelabel'])\n",
    "\n",
    "df.head()"
   ]
  },
  {
   "cell_type": "code",
   "execution_count": 5,
   "id": "4dca1b38",
   "metadata": {},
   "outputs": [],
   "source": [
    "sdf=df"
   ]
  },
  {
   "cell_type": "code",
   "execution_count": 6,
   "id": "bec5ff6e",
   "metadata": {},
   "outputs": [
    {
     "name": "stdout",
     "output_type": "stream",
     "text": [
      "<class 'pandas.core.frame.DataFrame'>\n",
      "Int64Index: 95084 entries, 29164 to 16126\n",
      "Data columns (total 11 columns):\n",
      " #   Column                     Non-Null Count  Dtype\n",
      "---  ------                     --------------  -----\n",
      " 0   article_id                 95084 non-null  int32\n",
      " 1   sales_channel_id           95084 non-null  int32\n",
      " 2   product_group_name         95084 non-null  int32\n",
      " 3   graphical_appearance_name  95084 non-null  int32\n",
      " 4   colour_group_name          95084 non-null  int32\n",
      " 5   section_name               95084 non-null  int32\n",
      " 6   garment_group_name         95084 non-null  int32\n",
      " 7   Year                       95084 non-null  int32\n",
      " 8   season                     95084 non-null  int32\n",
      " 9   pricelabel                 95084 non-null  int32\n",
      " 10  salelabel                  95084 non-null  int32\n",
      "dtypes: int32(11)\n",
      "memory usage: 4.7 MB\n"
     ]
    }
   ],
   "source": [
    "#類型轉換瘦身 使機器學習運算更快\n",
    "sdf['garment_group_name']=sdf['garment_group_name'].astype('int32')\n",
    "sdf['section_name']=sdf['section_name'].astype('int32')\n",
    "sdf['colour_group_name']=sdf['colour_group_name'].astype('int32')\n",
    "sdf['graphical_appearance_name']=sdf['graphical_appearance_name'].astype('int32')\n",
    "sdf['product_group_name']=sdf['product_group_name'].astype('int32')\n",
    "sdf['sales_channel_id']=sdf['sales_channel_id'].astype('int32')\n",
    "sdf['article_id']=sdf['article_id'].astype('int32')\n",
    "\n",
    "sdf['Year']=sdf['Year'].astype('int32')\n",
    "sdf['season']=sdf['season'].astype('int32')\n",
    "sdf['pricelabel']=sdf['pricelabel'].astype('int32')\n",
    "sdf['salelabel']=sdf['salelabel'].astype('int32')\n",
    "\n",
    "sdf.info()"
   ]
  },
  {
   "cell_type": "code",
   "execution_count": 7,
   "id": "66dc358a",
   "metadata": {},
   "outputs": [],
   "source": [
    "#設定要預測的Y\n",
    "labels=sdf['article_id'] "
   ]
  },
  {
   "cell_type": "code",
   "execution_count": 8,
   "id": "4c888e60",
   "metadata": {},
   "outputs": [],
   "source": [
    "#移除要預測的Y 表就只剩下X\n",
    "sdf=sdf.drop('article_id',axis=1) "
   ]
  },
  {
   "cell_type": "code",
   "execution_count": 9,
   "id": "b628831f",
   "metadata": {},
   "outputs": [],
   "source": [
    "#訓練集、測試集分割\n",
    "import tensorflow as tf \n",
    "from sklearn.model_selection import train_test_split\n",
    "X_train, X_test, y_train, y_test = train_test_split(sdf, labels,test_size=0.2, random_state=80) "
   ]
  },
  {
   "cell_type": "markdown",
   "id": "ae89e9da",
   "metadata": {},
   "source": [
    "# xgboost"
   ]
  },
  {
   "cell_type": "code",
   "execution_count": 20,
   "id": "63fb583b",
   "metadata": {
    "scrolled": true
   },
   "outputs": [
    {
     "name": "stderr",
     "output_type": "stream",
     "text": [
      "C:\\Users\\a0932\\anaconda3\\lib\\site-packages\\xgboost\\sklearn.py:1224: UserWarning: The use of label encoder in XGBClassifier is deprecated and will be removed in a future release. To remove this warning, do the following: 1) Pass option use_label_encoder=False when constructing XGBClassifier object; and 2) Encode your labels (y) as integers starting with 0, i.e. 0, 1, 2, ..., [num_class - 1].\n",
      "  warnings.warn(label_encoder_deprecation_msg, UserWarning)\n"
     ]
    },
    {
     "name": "stdout",
     "output_type": "stream",
     "text": [
      "[16:12:22] WARNING: C:/Users/Administrator/workspace/xgboost-win64_release_1.5.1/src/learner.cc:1115: Starting in XGBoost 1.3.0, the default evaluation metric used with the objective 'multi:softprob' was changed from 'merror' to 'mlogloss'. Explicitly set eval_metric if you'd like to restore the old behavior.\n"
     ]
    },
    {
     "data": {
      "text/plain": [
       "XGBClassifier(base_score=0.5, booster='gbtree', colsample_bylevel=1,\n",
       "              colsample_bynode=1, colsample_bytree=1, enable_categorical=False,\n",
       "              gamma=0, gpu_id=-1, importance_type=None,\n",
       "              interaction_constraints='', learning_rate=0.1, max_delta_step=0,\n",
       "              max_depth=15, min_child_weight=1, missing=nan,\n",
       "              monotone_constraints='()', n_estimators=8, n_jobs=6,\n",
       "              num_parallel_tree=1, objective='multi:softprob', predictor='auto',\n",
       "              random_state=1000, reg_alpha=0, reg_lambda=1,\n",
       "              scale_pos_weight=None, seed=1000, subsample=1,\n",
       "              tree_method='exact', validate_parameters=1, verbosity=None)"
      ]
     },
     "execution_count": 20,
     "metadata": {},
     "output_type": "execute_result"
    }
   ],
   "source": [
    "from xgboost.sklearn import XGBClassifier\n",
    "model = XGBClassifier(        \n",
    "        n_estimators=8,     #樹的個數\n",
    "        learning_rate= 0.1,    # 如同學習率 \n",
    "        max_depth=15,       # 構建樹的深度，越大越容易過擬合    \n",
    "        subsample=1,         # 隨機取樣訓練樣本 訓練例項的子取樣比\n",
    "        gamma=0,         # 用於控制是否後剪枝的引數,越大越保守，一般0.1、0.2這樣子\n",
    "        reg_lambda=1,          # 控制模型複雜度的權重值的L2正則化項引數，引數越大，模型越不容易過擬合。\n",
    "        max_delta_step=0,        #最大增量步長，我們允許每個樹的權重估計。\n",
    "        colsample_bytree=1,         # 生成樹時進行的列取樣 \n",
    "        min_child_weight=1, \n",
    "                     # 這個引數預設是 1，是每個葉子裡面 h 的和至少是多少，對正負樣本不均衡時的 0-1 分類而言\n",
    "                     # 假設 h 在 0.01 附近，min_child_weight 為 1 意味著葉子節點中最少需要包含 100 個樣本。\n",
    "                     #這個引數非常影響結果，控制葉子節點中二階導的和的最小值，該引數值越小，越容易 overfitting。\n",
    "        seed=1000         #隨機種子\n",
    "#        reg_alpha=0,        # L1 正則項引數\n",
    "        #scale_pos_weight=1,        #如果取值大於0的話，在類別樣本不平衡的情況下有助於快速收斂。平衡正負權重\n",
    "        #objective= 'multi:softmax',         #多分類的問題 指定學習任務和相應的學習目標\n",
    "        #num_class=10,        # 類別數，多分類與 multisoftmax 並用\n",
    "#        silent=0 ,        # 設定成1則沒有執行資訊輸出，最好是設定為0.是否在執行升級時列印訊息。\n",
    "#        nthread=4,        # cpu 執行緒數 預設最大\n",
    "        #eval_metric= 'auc'\n",
    ")\n",
    "\n",
    "model.fit(X_train, y_train) \n",
    "\n"
   ]
  },
  {
   "cell_type": "code",
   "execution_count": 21,
   "id": "d4061bbc",
   "metadata": {},
   "outputs": [],
   "source": [
    "\n",
    "import pickle\n",
    "# Fit the model on training set\n",
    "# save the model to disk\n",
    "\n",
    "# 將訓練模型轉pickle \n",
    "MODEL_x2article = 'MODEL_x2article.sav'\n",
    "#pickle.dump(xgbc, open(MODEL_x2article, 'wb'))\n",
    "\n",
    "pickle.dump(model, open('MODEL_x2article.pkl','wb'))\n",
    "\n",
    "pickle.dump(model, open('MODEL_x2article.json','wb'))"
   ]
  },
  {
   "cell_type": "code",
   "execution_count": null,
   "id": "d5dac860",
   "metadata": {},
   "outputs": [],
   "source": []
  },
  {
   "cell_type": "markdown",
   "id": "30308c44",
   "metadata": {},
   "source": [
    "# 從這開始 由視覺化網站的python 檔執行\n"
   ]
  },
  {
   "cell_type": "code",
   "execution_count": 12,
   "id": "6fa0c214",
   "metadata": {},
   "outputs": [
    {
     "name": "stdout",
     "output_type": "stream",
     "text": [
      "網頁需要輸入的X:        sales_channel_id  product_group_name  graphical_appearance_name  \\\n",
      "71037                 2                   7                         20   \n",
      "8942                  2                   7                          0   \n",
      "87956                 1                   2                         19   \n",
      "87434                 2                   1                         20   \n",
      "7912                  2                   7                          0   \n",
      "...                 ...                 ...                        ...   \n",
      "53057                 2                   6                         19   \n",
      "77140                 2                   7                         19   \n",
      "13935                 2                   7                         19   \n",
      "29931                 1                   8                         11   \n",
      "56890                 2                   1                          0   \n",
      "\n",
      "       colour_group_name  section_name  garment_group_name  Year  season  \\\n",
      "71037                 20            26                  14     1       2   \n",
      "8942                   0            26                  14     1       3   \n",
      "87956                  5            18                  10     1       2   \n",
      "87434                 40            20                   5     2       1   \n",
      "7912                   7            26                  14     1       1   \n",
      "...                  ...           ...                 ...   ...     ...   \n",
      "53057                  1            23                  12     1       0   \n",
      "77140                  1            26                  14     0       0   \n",
      "13935                  1            26                  14     2       2   \n",
      "29931                 36            22                  17     1       1   \n",
      "56890                 19             5                   3     1       2   \n",
      "\n",
      "       pricelabel  salelabel  \n",
      "71037           3          0  \n",
      "8942            1          2  \n",
      "87956           2          0  \n",
      "87434           2          0  \n",
      "7912            1          0  \n",
      "...           ...        ...  \n",
      "53057           1          2  \n",
      "77140           3          2  \n",
      "13935           2          0  \n",
      "29931          10          0  \n",
      "56890           4          0  \n",
      "\n",
      "[19017 rows x 10 columns]\n",
      "網頁預測結果: [727948001 605690004 599718002 ... 806225002 720137007 762063001]\n"
     ]
    }
   ],
   "source": [
    "# 載入機器學習已經訓練好的模型\n",
    "loaded_model = pickle.load(open(MODEL_x2article, 'rb'))\n",
    "XGB_pred=loaded_model.predict(X_test) #模型去預測X_test\n",
    "print( \"網頁需要輸入的X:\",X_test)\n",
    "\n",
    "print(\"網頁預測結果:\",XGB_pred) #此為根據X_test預測出的Y"
   ]
  },
  {
   "cell_type": "code",
   "execution_count": 13,
   "id": "a1c2aa0f",
   "metadata": {},
   "outputs": [
    {
     "name": "stdout",
     "output_type": "stream",
     "text": [
      "0.817187479458898\n"
     ]
    }
   ],
   "source": [
    "XGBtrain_score=xgbc.score(X_train, y_train)\n",
    "print(XGBtrain_score) #X與Y訓練集的準確率"
   ]
  },
  {
   "cell_type": "code",
   "execution_count": null,
   "id": "ef984e90",
   "metadata": {},
   "outputs": [],
   "source": []
  },
  {
   "cell_type": "code",
   "execution_count": 14,
   "id": "a3ff9d04",
   "metadata": {},
   "outputs": [
    {
     "name": "stdout",
     "output_type": "stream",
     "text": [
      "The Accuracy of XGBOOST Classifier on testing set: 0.7970763001524951\n"
     ]
    }
   ],
   "source": [
    "# XGBtest_score=xgbc.score(X_test,y_test)\n",
    "XGBtest_score = loaded_model.score(X_test, y_test)\n",
    "\n",
    "print('The Accuracy of XGBOOST Classifier on testing set:', XGBtest_score) #X與Y測試集的準確率"
   ]
  },
  {
   "cell_type": "code",
   "execution_count": 15,
   "id": "7606a59e",
   "metadata": {},
   "outputs": [],
   "source": [
    "# 達到一定標準證明模型準確可以使用\n",
    "# 只要再製造X_test 就可以print(XGB_pred)得到要的Y"
   ]
  },
  {
   "cell_type": "code",
   "execution_count": 16,
   "id": "fff745e7",
   "metadata": {
    "scrolled": true
   },
   "outputs": [
    {
     "data": {
      "text/html": [
       "<div>\n",
       "<style scoped>\n",
       "    .dataframe tbody tr th:only-of-type {\n",
       "        vertical-align: middle;\n",
       "    }\n",
       "\n",
       "    .dataframe tbody tr th {\n",
       "        vertical-align: top;\n",
       "    }\n",
       "\n",
       "    .dataframe thead th {\n",
       "        text-align: right;\n",
       "    }\n",
       "</style>\n",
       "<table border=\"1\" class=\"dataframe\">\n",
       "  <thead>\n",
       "    <tr style=\"text-align: right;\">\n",
       "      <th></th>\n",
       "      <th>sales_channel_id</th>\n",
       "      <th>product_group_name</th>\n",
       "      <th>graphical_appearance_name</th>\n",
       "    </tr>\n",
       "  </thead>\n",
       "  <tbody>\n",
       "    <tr>\n",
       "      <th>0</th>\n",
       "      <td>線上</td>\n",
       "      <td>上衣</td>\n",
       "      <td>圓形</td>\n",
       "    </tr>\n",
       "  </tbody>\n",
       "</table>\n",
       "</div>"
      ],
      "text/plain": [
       "  sales_channel_id product_group_name graphical_appearance_name\n",
       "0               線上                 上衣                        圓形"
      ]
     },
     "execution_count": 16,
     "metadata": {},
     "output_type": "execute_result"
    }
   ],
   "source": [
    "#建立X_test架構====想法\n",
    "#填入網頁輸入內容連接的函式?\n",
    "\n",
    "請輸入購買管道=pd.Series('線上') #此為透過網頁輸入的資料\n",
    "請輸入想要類別=pd.Series('上衣') #此為透過網頁輸入的資料\n",
    "請輸入想要樣式=pd.Series('圓形') #此為透過網頁輸入的資料\n",
    "\n",
    "TestX=pd.DataFrame({'sales_channel_id':請輸入購買管道,\n",
    "                   'product_group_name':請輸入想要類別,\n",
    "                   'graphical_appearance_name':請輸入想要樣式})\n",
    "TestX"
   ]
  },
  {
   "cell_type": "code",
   "execution_count": 17,
   "id": "72dcd7e7",
   "metadata": {},
   "outputs": [],
   "source": [
    "#以上方想法請參考一條龍的檔案"
   ]
  },
  {
   "cell_type": "code",
   "execution_count": null,
   "id": "7e8d6b33",
   "metadata": {},
   "outputs": [],
   "source": []
  }
 ],
 "metadata": {
  "kernelspec": {
   "display_name": "Python 3 (ipykernel)",
   "language": "python",
   "name": "python3"
  },
  "language_info": {
   "codemirror_mode": {
    "name": "ipython",
    "version": 3
   },
   "file_extension": ".py",
   "mimetype": "text/x-python",
   "name": "python",
   "nbconvert_exporter": "python",
   "pygments_lexer": "ipython3",
   "version": "3.9.7"
  },
  "toc": {
   "base_numbering": 1,
   "nav_menu": {},
   "number_sections": true,
   "sideBar": true,
   "skip_h1_title": false,
   "title_cell": "Table of Contents",
   "title_sidebar": "Contents",
   "toc_cell": false,
   "toc_position": {},
   "toc_section_display": true,
   "toc_window_display": false
  }
 },
 "nbformat": 4,
 "nbformat_minor": 5
}
