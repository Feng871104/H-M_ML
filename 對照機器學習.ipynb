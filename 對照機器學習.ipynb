{
 "cells": [
  {
   "cell_type": "markdown",
   "id": "6c998455",
   "metadata": {
    "id": "6c998455"
   },
   "source": [
    "# 載入套件"
   ]
  },
  {
   "cell_type": "code",
   "execution_count": null,
   "id": "add3a9c2",
   "metadata": {
    "id": "add3a9c2"
   },
   "outputs": [],
   "source": [
    "#!pip install tensorflow\n",
    "#!pip install xgboost"
   ]
  },
  {
   "cell_type": "code",
   "execution_count": 1,
   "id": "4a6f4576",
   "metadata": {
    "id": "4a6f4576"
   },
   "outputs": [],
   "source": [
    "import numpy as np\n",
    "import pandas as pd\n",
    "import random\n",
    "import seaborn as sns\n",
    "import tensorflow\n",
    "from sklearn.preprocessing import LabelEncoder\n",
    "import matplotlib.pyplot as plt\n",
    "from tensorflow.keras import models\n",
    "from tensorflow.keras import layers\n",
    "from sklearn.metrics import accuracy_score,confusion_matrix"
   ]
  },
  {
   "cell_type": "code",
   "execution_count": 2,
   "id": "f65AbS8ZcpXd",
   "metadata": {
    "colab": {
     "base_uri": "https://localhost:8080/"
    },
    "executionInfo": {
     "elapsed": 14651,
     "status": "ok",
     "timestamp": 1650248063130,
     "user": {
      "displayName": "蕭至峰",
      "userId": "06823841140567024471"
     },
     "user_tz": -480
    },
    "id": "f65AbS8ZcpXd",
    "outputId": "12941d3b-6f98-449b-ad24-9324e1f89390"
   },
   "outputs": [],
   "source": [
    "# from google.colab import drive\n",
    "# drive.mount('/content/drive')"
   ]
  },
  {
   "cell_type": "markdown",
   "id": "57062420",
   "metadata": {},
   "source": [
    "# 觀察資料"
   ]
  },
  {
   "cell_type": "code",
   "execution_count": 178,
   "id": "973e2edd",
   "metadata": {
    "colab": {
     "base_uri": "https://localhost:8080/",
     "height": 730
    },
    "executionInfo": {
     "elapsed": 446,
     "status": "ok",
     "timestamp": 1650170934483,
     "user": {
      "displayName": "gst g",
      "userId": "12328799786375158090"
     },
     "user_tz": -480
    },
    "id": "973e2edd",
    "outputId": "fb64d479-8d47-4b1d-8b6d-431e047d90a7",
    "scrolled": true
   },
   "outputs": [
    {
     "data": {
      "text/html": [
       "<div>\n",
       "<style scoped>\n",
       "    .dataframe tbody tr th:only-of-type {\n",
       "        vertical-align: middle;\n",
       "    }\n",
       "\n",
       "    .dataframe tbody tr th {\n",
       "        vertical-align: top;\n",
       "    }\n",
       "\n",
       "    .dataframe thead th {\n",
       "        text-align: right;\n",
       "    }\n",
       "</style>\n",
       "<table border=\"1\" class=\"dataframe\">\n",
       "  <thead>\n",
       "    <tr style=\"text-align: right;\">\n",
       "      <th></th>\n",
       "      <th>article_id</th>\n",
       "      <th>sales_channel_id</th>\n",
       "      <th>product_group_name</th>\n",
       "      <th>graphical_appearance_name</th>\n",
       "      <th>colour_group_name</th>\n",
       "      <th>department_name</th>\n",
       "      <th>section_name</th>\n",
       "      <th>garment_group_name</th>\n",
       "      <th>FN</th>\n",
       "      <th>Active</th>\n",
       "      <th>club_member_status</th>\n",
       "      <th>fashion_news_frequency</th>\n",
       "      <th>Year</th>\n",
       "      <th>season</th>\n",
       "      <th>pricelabel</th>\n",
       "      <th>salelabel</th>\n",
       "    </tr>\n",
       "  </thead>\n",
       "  <tbody>\n",
       "    <tr>\n",
       "      <th>56534</th>\n",
       "      <td>739347001</td>\n",
       "      <td>1</td>\n",
       "      <td>Underwear</td>\n",
       "      <td>Solid</td>\n",
       "      <td>Black</td>\n",
       "      <td>Ladies Sport Bras</td>\n",
       "      <td>Ladies H&amp;M Sport</td>\n",
       "      <td>Jersey Fancy</td>\n",
       "      <td>1</td>\n",
       "      <td>1</td>\n",
       "      <td>ACTIVE</td>\n",
       "      <td>REGULARLY</td>\n",
       "      <td>2019</td>\n",
       "      <td>Fall</td>\n",
       "      <td>200~299元</td>\n",
       "      <td>冷門</td>\n",
       "    </tr>\n",
       "    <tr>\n",
       "      <th>22079</th>\n",
       "      <td>834258003</td>\n",
       "      <td>2</td>\n",
       "      <td>Swimwear</td>\n",
       "      <td>Solid</td>\n",
       "      <td>Red</td>\n",
       "      <td>Swimwear</td>\n",
       "      <td>Womens Swimwear, beachwear</td>\n",
       "      <td>Swimwear</td>\n",
       "      <td>1</td>\n",
       "      <td>1</td>\n",
       "      <td>ACTIVE</td>\n",
       "      <td>REGULARLY</td>\n",
       "      <td>2020</td>\n",
       "      <td>Winter</td>\n",
       "      <td>200~299元</td>\n",
       "      <td>一般</td>\n",
       "    </tr>\n",
       "    <tr>\n",
       "      <th>45677</th>\n",
       "      <td>806388009</td>\n",
       "      <td>2</td>\n",
       "      <td>Garment Upper body</td>\n",
       "      <td>Melange</td>\n",
       "      <td>Grey</td>\n",
       "      <td>Basic 1</td>\n",
       "      <td>Divided Basics</td>\n",
       "      <td>Jersey Basic</td>\n",
       "      <td>1</td>\n",
       "      <td>1</td>\n",
       "      <td>ACTIVE</td>\n",
       "      <td>REGULARLY</td>\n",
       "      <td>2020</td>\n",
       "      <td>Spring</td>\n",
       "      <td>100~199元</td>\n",
       "      <td>熱門</td>\n",
       "    </tr>\n",
       "    <tr>\n",
       "      <th>92049</th>\n",
       "      <td>656719015</td>\n",
       "      <td>2</td>\n",
       "      <td>Garment Lower body</td>\n",
       "      <td>Check</td>\n",
       "      <td>Black</td>\n",
       "      <td>Trouser</td>\n",
       "      <td>Womens Everyday Collection</td>\n",
       "      <td>Trousers</td>\n",
       "      <td>0</td>\n",
       "      <td>0</td>\n",
       "      <td>ACTIVE</td>\n",
       "      <td>NONE</td>\n",
       "      <td>2019</td>\n",
       "      <td>Fall</td>\n",
       "      <td>400~499元</td>\n",
       "      <td>一般</td>\n",
       "    </tr>\n",
       "    <tr>\n",
       "      <th>25168</th>\n",
       "      <td>819139001</td>\n",
       "      <td>2</td>\n",
       "      <td>Garment Full body</td>\n",
       "      <td>Solid</td>\n",
       "      <td>Light Beige</td>\n",
       "      <td>Campaigns</td>\n",
       "      <td>Womens Everyday Collection</td>\n",
       "      <td>Special Offers</td>\n",
       "      <td>1</td>\n",
       "      <td>1</td>\n",
       "      <td>ACTIVE</td>\n",
       "      <td>REGULARLY</td>\n",
       "      <td>2019</td>\n",
       "      <td>Winter</td>\n",
       "      <td>300~399元</td>\n",
       "      <td>一般</td>\n",
       "    </tr>\n",
       "    <tr>\n",
       "      <th>...</th>\n",
       "      <td>...</td>\n",
       "      <td>...</td>\n",
       "      <td>...</td>\n",
       "      <td>...</td>\n",
       "      <td>...</td>\n",
       "      <td>...</td>\n",
       "      <td>...</td>\n",
       "      <td>...</td>\n",
       "      <td>...</td>\n",
       "      <td>...</td>\n",
       "      <td>...</td>\n",
       "      <td>...</td>\n",
       "      <td>...</td>\n",
       "      <td>...</td>\n",
       "      <td>...</td>\n",
       "      <td>...</td>\n",
       "    </tr>\n",
       "    <tr>\n",
       "      <th>17231</th>\n",
       "      <td>763280008</td>\n",
       "      <td>2</td>\n",
       "      <td>Garment Upper body</td>\n",
       "      <td>Melange</td>\n",
       "      <td>Red</td>\n",
       "      <td>Knitwear</td>\n",
       "      <td>Womens Everyday Collection</td>\n",
       "      <td>Knitwear</td>\n",
       "      <td>1</td>\n",
       "      <td>1</td>\n",
       "      <td>ACTIVE</td>\n",
       "      <td>REGULARLY</td>\n",
       "      <td>2020</td>\n",
       "      <td>Winter</td>\n",
       "      <td>100~199元</td>\n",
       "      <td>一般</td>\n",
       "    </tr>\n",
       "    <tr>\n",
       "      <th>5490</th>\n",
       "      <td>490113004</td>\n",
       "      <td>2</td>\n",
       "      <td>Garment Lower body</td>\n",
       "      <td>Solid</td>\n",
       "      <td>Blue</td>\n",
       "      <td>Shorts</td>\n",
       "      <td>Divided Collection</td>\n",
       "      <td>Shorts</td>\n",
       "      <td>0</td>\n",
       "      <td>0</td>\n",
       "      <td>ACTIVE</td>\n",
       "      <td>NONE</td>\n",
       "      <td>2019</td>\n",
       "      <td>Winter</td>\n",
       "      <td>200~299元</td>\n",
       "      <td>冷門</td>\n",
       "    </tr>\n",
       "    <tr>\n",
       "      <th>32281</th>\n",
       "      <td>742924002</td>\n",
       "      <td>2</td>\n",
       "      <td>Swimwear</td>\n",
       "      <td>Solid</td>\n",
       "      <td>Black</td>\n",
       "      <td>Swimwear</td>\n",
       "      <td>Womens Swimwear, beachwear</td>\n",
       "      <td>Swimwear</td>\n",
       "      <td>0</td>\n",
       "      <td>0</td>\n",
       "      <td>ACTIVE</td>\n",
       "      <td>NONE</td>\n",
       "      <td>2019</td>\n",
       "      <td>Spring</td>\n",
       "      <td>100~199元</td>\n",
       "      <td>一般</td>\n",
       "    </tr>\n",
       "    <tr>\n",
       "      <th>82823</th>\n",
       "      <td>719463001</td>\n",
       "      <td>2</td>\n",
       "      <td>Garment Lower body</td>\n",
       "      <td>Solid</td>\n",
       "      <td>Beige</td>\n",
       "      <td>Trouser</td>\n",
       "      <td>Womens Everyday Collection</td>\n",
       "      <td>Trousers</td>\n",
       "      <td>1</td>\n",
       "      <td>1</td>\n",
       "      <td>ACTIVE</td>\n",
       "      <td>REGULARLY</td>\n",
       "      <td>2019</td>\n",
       "      <td>Spring</td>\n",
       "      <td>300~399元</td>\n",
       "      <td>一般</td>\n",
       "    </tr>\n",
       "    <tr>\n",
       "      <th>93063</th>\n",
       "      <td>832453001</td>\n",
       "      <td>1</td>\n",
       "      <td>Garment Upper body</td>\n",
       "      <td>Solid</td>\n",
       "      <td>Black</td>\n",
       "      <td>Jersey fancy</td>\n",
       "      <td>Womens Everyday Collection</td>\n",
       "      <td>Jersey Fancy</td>\n",
       "      <td>0</td>\n",
       "      <td>0</td>\n",
       "      <td>ACTIVE</td>\n",
       "      <td>NONE</td>\n",
       "      <td>2020</td>\n",
       "      <td>Summer</td>\n",
       "      <td>100~199元</td>\n",
       "      <td>一般</td>\n",
       "    </tr>\n",
       "  </tbody>\n",
       "</table>\n",
       "<p>95084 rows × 16 columns</p>\n",
       "</div>"
      ],
      "text/plain": [
       "       article_id  sales_channel_id  product_group_name  \\\n",
       "56534   739347001                 1           Underwear   \n",
       "22079   834258003                 2            Swimwear   \n",
       "45677   806388009                 2  Garment Upper body   \n",
       "92049   656719015                 2  Garment Lower body   \n",
       "25168   819139001                 2   Garment Full body   \n",
       "...           ...               ...                 ...   \n",
       "17231   763280008                 2  Garment Upper body   \n",
       "5490    490113004                 2  Garment Lower body   \n",
       "32281   742924002                 2            Swimwear   \n",
       "82823   719463001                 2  Garment Lower body   \n",
       "93063   832453001                 1  Garment Upper body   \n",
       "\n",
       "      graphical_appearance_name colour_group_name    department_name  \\\n",
       "56534                     Solid             Black  Ladies Sport Bras   \n",
       "22079                     Solid               Red           Swimwear   \n",
       "45677                   Melange              Grey            Basic 1   \n",
       "92049                     Check             Black            Trouser   \n",
       "25168                     Solid       Light Beige          Campaigns   \n",
       "...                         ...               ...                ...   \n",
       "17231                   Melange               Red           Knitwear   \n",
       "5490                      Solid              Blue             Shorts   \n",
       "32281                     Solid             Black           Swimwear   \n",
       "82823                     Solid             Beige            Trouser   \n",
       "93063                     Solid             Black       Jersey fancy   \n",
       "\n",
       "                     section_name garment_group_name  FN  Active  \\\n",
       "56534            Ladies H&M Sport       Jersey Fancy   1       1   \n",
       "22079  Womens Swimwear, beachwear           Swimwear   1       1   \n",
       "45677              Divided Basics       Jersey Basic   1       1   \n",
       "92049  Womens Everyday Collection           Trousers   0       0   \n",
       "25168  Womens Everyday Collection     Special Offers   1       1   \n",
       "...                           ...                ...  ..     ...   \n",
       "17231  Womens Everyday Collection           Knitwear   1       1   \n",
       "5490           Divided Collection             Shorts   0       0   \n",
       "32281  Womens Swimwear, beachwear           Swimwear   0       0   \n",
       "82823  Womens Everyday Collection           Trousers   1       1   \n",
       "93063  Womens Everyday Collection       Jersey Fancy   0       0   \n",
       "\n",
       "      club_member_status fashion_news_frequency  Year  season pricelabel  \\\n",
       "56534             ACTIVE              REGULARLY  2019    Fall   200~299元   \n",
       "22079             ACTIVE              REGULARLY  2020  Winter   200~299元   \n",
       "45677             ACTIVE              REGULARLY  2020  Spring   100~199元   \n",
       "92049             ACTIVE                   NONE  2019    Fall   400~499元   \n",
       "25168             ACTIVE              REGULARLY  2019  Winter   300~399元   \n",
       "...                  ...                    ...   ...     ...        ...   \n",
       "17231             ACTIVE              REGULARLY  2020  Winter   100~199元   \n",
       "5490              ACTIVE                   NONE  2019  Winter   200~299元   \n",
       "32281             ACTIVE                   NONE  2019  Spring   100~199元   \n",
       "82823             ACTIVE              REGULARLY  2019  Spring   300~399元   \n",
       "93063             ACTIVE                   NONE  2020  Summer   100~199元   \n",
       "\n",
       "      salelabel  \n",
       "56534        冷門  \n",
       "22079        一般  \n",
       "45677        熱門  \n",
       "92049        一般  \n",
       "25168        一般  \n",
       "...         ...  \n",
       "17231        一般  \n",
       "5490         冷門  \n",
       "32281        一般  \n",
       "82823        一般  \n",
       "93063        一般  \n",
       "\n",
       "[95084 rows x 16 columns]"
      ]
     },
     "execution_count": 178,
     "metadata": {},
     "output_type": "execute_result"
    },
    {
     "name": "stdout",
     "output_type": "stream",
     "text": [
      "time: 235 ms (started: 2022-04-18 14:50:13 +08:00)\n"
     ]
    }
   ],
   "source": [
    "pd.set_option('display.max_columns', None)\n",
    "df=pd.read_csv('0416_機器學習.csv')\n",
    "from sklearn.utils import shuffle\n",
    "df=shuffle(df)\n",
    "df"
   ]
  },
  {
   "cell_type": "markdown",
   "id": "16288bb5",
   "metadata": {},
   "source": [
    "# 一次增加一欄 "
   ]
  },
  {
   "cell_type": "code",
   "execution_count": 179,
   "id": "afd02ab0",
   "metadata": {
    "id": "afd02ab0",
    "scrolled": false
   },
   "outputs": [
    {
     "name": "stdout",
     "output_type": "stream",
     "text": [
      "time: 16 ms (started: 2022-04-18 14:50:14 +08:00)\n"
     ]
    }
   ],
   "source": [
    "df=df.drop('department_name',axis=1) "
   ]
  },
  {
   "cell_type": "code",
   "execution_count": 180,
   "id": "71bd7b11",
   "metadata": {
    "id": "71bd7b11"
   },
   "outputs": [
    {
     "name": "stdout",
     "output_type": "stream",
     "text": [
      "time: 0 ns (started: 2022-04-18 14:50:15 +08:00)\n"
     ]
    }
   ],
   "source": [
    "#df=df.drop('Year',axis=1)"
   ]
  },
  {
   "cell_type": "code",
   "execution_count": 181,
   "id": "2012c5ed",
   "metadata": {
    "id": "2012c5ed"
   },
   "outputs": [
    {
     "name": "stdout",
     "output_type": "stream",
     "text": [
      "time: 0 ns (started: 2022-04-18 14:50:15 +08:00)\n"
     ]
    }
   ],
   "source": [
    "#df=df.drop('season',axis=1)"
   ]
  },
  {
   "cell_type": "code",
   "execution_count": 182,
   "id": "40595c00",
   "metadata": {
    "id": "40595c00"
   },
   "outputs": [
    {
     "name": "stdout",
     "output_type": "stream",
     "text": [
      "time: 0 ns (started: 2022-04-18 14:50:16 +08:00)\n"
     ]
    }
   ],
   "source": [
    "#df=df.drop('pricelabel',axis=1)"
   ]
  },
  {
   "cell_type": "code",
   "execution_count": 183,
   "id": "f95a55fd",
   "metadata": {
    "id": "f95a55fd"
   },
   "outputs": [
    {
     "name": "stdout",
     "output_type": "stream",
     "text": [
      "time: 0 ns (started: 2022-04-18 14:50:16 +08:00)\n"
     ]
    }
   ],
   "source": [
    "#df=df.drop('salelabel',axis=1)"
   ]
  },
  {
   "cell_type": "code",
   "execution_count": 173,
   "id": "c5057a48",
   "metadata": {
    "colab": {
     "base_uri": "https://localhost:8080/",
     "height": 730
    },
    "executionInfo": {
     "elapsed": 36,
     "status": "ok",
     "timestamp": 1650170934487,
     "user": {
      "displayName": "gst g",
      "userId": "12328799786375158090"
     },
     "user_tz": -480
    },
    "id": "c5057a48",
    "outputId": "0531cbdd-d868-43ff-e20c-bfe5b71f0d87"
   },
   "outputs": [
    {
     "data": {
      "text/html": [
       "<div>\n",
       "<style scoped>\n",
       "    .dataframe tbody tr th:only-of-type {\n",
       "        vertical-align: middle;\n",
       "    }\n",
       "\n",
       "    .dataframe tbody tr th {\n",
       "        vertical-align: top;\n",
       "    }\n",
       "\n",
       "    .dataframe thead th {\n",
       "        text-align: right;\n",
       "    }\n",
       "</style>\n",
       "<table border=\"1\" class=\"dataframe\">\n",
       "  <thead>\n",
       "    <tr style=\"text-align: right;\">\n",
       "      <th></th>\n",
       "      <th>article_id</th>\n",
       "      <th>sales_channel_id</th>\n",
       "      <th>product_group_name</th>\n",
       "      <th>graphical_appearance_name</th>\n",
       "      <th>colour_group_name</th>\n",
       "      <th>section_name</th>\n",
       "      <th>garment_group_name</th>\n",
       "      <th>FN</th>\n",
       "      <th>Active</th>\n",
       "      <th>club_member_status</th>\n",
       "      <th>fashion_news_frequency</th>\n",
       "      <th>Year</th>\n",
       "      <th>season</th>\n",
       "      <th>pricelabel</th>\n",
       "      <th>salelabel</th>\n",
       "    </tr>\n",
       "  </thead>\n",
       "  <tbody>\n",
       "    <tr>\n",
       "      <th>27591</th>\n",
       "      <td>679278001</td>\n",
       "      <td>2</td>\n",
       "      <td>Underwear</td>\n",
       "      <td>Solid</td>\n",
       "      <td>Black</td>\n",
       "      <td>Womens Lingerie</td>\n",
       "      <td>Under-, Nightwear</td>\n",
       "      <td>1</td>\n",
       "      <td>1</td>\n",
       "      <td>ACTIVE</td>\n",
       "      <td>REGULARLY</td>\n",
       "      <td>2019</td>\n",
       "      <td>Winter</td>\n",
       "      <td>200~299元</td>\n",
       "      <td>一般</td>\n",
       "    </tr>\n",
       "    <tr>\n",
       "      <th>320</th>\n",
       "      <td>700701001</td>\n",
       "      <td>2</td>\n",
       "      <td>Unknown</td>\n",
       "      <td>Solid</td>\n",
       "      <td>Light Beige</td>\n",
       "      <td>Womens Lingerie</td>\n",
       "      <td>Under-, Nightwear</td>\n",
       "      <td>1</td>\n",
       "      <td>1</td>\n",
       "      <td>ACTIVE</td>\n",
       "      <td>REGULARLY</td>\n",
       "      <td>2019</td>\n",
       "      <td>Winter</td>\n",
       "      <td>200~299元</td>\n",
       "      <td>熱門</td>\n",
       "    </tr>\n",
       "    <tr>\n",
       "      <th>45590</th>\n",
       "      <td>684340001</td>\n",
       "      <td>2</td>\n",
       "      <td>Swimwear</td>\n",
       "      <td>Solid</td>\n",
       "      <td>Black</td>\n",
       "      <td>Womens Swimwear, beachwear</td>\n",
       "      <td>Swimwear</td>\n",
       "      <td>0</td>\n",
       "      <td>0</td>\n",
       "      <td>ACTIVE</td>\n",
       "      <td>NONE</td>\n",
       "      <td>2019</td>\n",
       "      <td>Winter</td>\n",
       "      <td>300~399元</td>\n",
       "      <td>熱門</td>\n",
       "    </tr>\n",
       "    <tr>\n",
       "      <th>18181</th>\n",
       "      <td>660308007</td>\n",
       "      <td>1</td>\n",
       "      <td>Garment Lower body</td>\n",
       "      <td>Stripe</td>\n",
       "      <td>Black</td>\n",
       "      <td>Divided Collection</td>\n",
       "      <td>Trousers</td>\n",
       "      <td>0</td>\n",
       "      <td>0</td>\n",
       "      <td>ACTIVE</td>\n",
       "      <td>NONE</td>\n",
       "      <td>2019</td>\n",
       "      <td>Spring</td>\n",
       "      <td>200~299元</td>\n",
       "      <td>熱門</td>\n",
       "    </tr>\n",
       "    <tr>\n",
       "      <th>43037</th>\n",
       "      <td>492897001</td>\n",
       "      <td>2</td>\n",
       "      <td>Underwear</td>\n",
       "      <td>Solid</td>\n",
       "      <td>Black</td>\n",
       "      <td>Womens Lingerie</td>\n",
       "      <td>Under-, Nightwear</td>\n",
       "      <td>0</td>\n",
       "      <td>0</td>\n",
       "      <td>ACTIVE</td>\n",
       "      <td>NONE</td>\n",
       "      <td>2019</td>\n",
       "      <td>Spring</td>\n",
       "      <td>200~299元</td>\n",
       "      <td>熱門</td>\n",
       "    </tr>\n",
       "    <tr>\n",
       "      <th>...</th>\n",
       "      <td>...</td>\n",
       "      <td>...</td>\n",
       "      <td>...</td>\n",
       "      <td>...</td>\n",
       "      <td>...</td>\n",
       "      <td>...</td>\n",
       "      <td>...</td>\n",
       "      <td>...</td>\n",
       "      <td>...</td>\n",
       "      <td>...</td>\n",
       "      <td>...</td>\n",
       "      <td>...</td>\n",
       "      <td>...</td>\n",
       "      <td>...</td>\n",
       "      <td>...</td>\n",
       "    </tr>\n",
       "    <tr>\n",
       "      <th>86632</th>\n",
       "      <td>823118002</td>\n",
       "      <td>2</td>\n",
       "      <td>Swimwear</td>\n",
       "      <td>Stripe</td>\n",
       "      <td>White</td>\n",
       "      <td>Womens Swimwear, beachwear</td>\n",
       "      <td>Swimwear</td>\n",
       "      <td>0</td>\n",
       "      <td>0</td>\n",
       "      <td>ACTIVE</td>\n",
       "      <td>NONE</td>\n",
       "      <td>2020</td>\n",
       "      <td>Spring</td>\n",
       "      <td>200~299元</td>\n",
       "      <td>冷門</td>\n",
       "    </tr>\n",
       "    <tr>\n",
       "      <th>77542</th>\n",
       "      <td>556539016</td>\n",
       "      <td>1</td>\n",
       "      <td>Accessories</td>\n",
       "      <td>Solid</td>\n",
       "      <td>Dark Red</td>\n",
       "      <td>Womens Small accessories</td>\n",
       "      <td>Accessories</td>\n",
       "      <td>0</td>\n",
       "      <td>0</td>\n",
       "      <td>ACTIVE</td>\n",
       "      <td>NONE</td>\n",
       "      <td>2019</td>\n",
       "      <td>Fall</td>\n",
       "      <td>99元以下</td>\n",
       "      <td>一般</td>\n",
       "    </tr>\n",
       "    <tr>\n",
       "      <th>2519</th>\n",
       "      <td>685448005</td>\n",
       "      <td>2</td>\n",
       "      <td>Garment Full body</td>\n",
       "      <td>Solid</td>\n",
       "      <td>Black</td>\n",
       "      <td>Womens Everyday Collection</td>\n",
       "      <td>Dresses Ladies</td>\n",
       "      <td>1</td>\n",
       "      <td>1</td>\n",
       "      <td>ACTIVE</td>\n",
       "      <td>REGULARLY</td>\n",
       "      <td>2019</td>\n",
       "      <td>Spring</td>\n",
       "      <td>200~299元</td>\n",
       "      <td>一般</td>\n",
       "    </tr>\n",
       "    <tr>\n",
       "      <th>42258</th>\n",
       "      <td>783507001</td>\n",
       "      <td>2</td>\n",
       "      <td>Nightwear</td>\n",
       "      <td>Dot</td>\n",
       "      <td>Black</td>\n",
       "      <td>Womens Nightwear, Socks &amp; Tigh</td>\n",
       "      <td>Under-, Nightwear</td>\n",
       "      <td>1</td>\n",
       "      <td>1</td>\n",
       "      <td>ACTIVE</td>\n",
       "      <td>REGULARLY</td>\n",
       "      <td>2019</td>\n",
       "      <td>Fall</td>\n",
       "      <td>300~399元</td>\n",
       "      <td>一般</td>\n",
       "    </tr>\n",
       "    <tr>\n",
       "      <th>687</th>\n",
       "      <td>746087002</td>\n",
       "      <td>2</td>\n",
       "      <td>Garment Lower body</td>\n",
       "      <td>All over pattern</td>\n",
       "      <td>Black</td>\n",
       "      <td>Divided Collection</td>\n",
       "      <td>Skirts</td>\n",
       "      <td>0</td>\n",
       "      <td>0</td>\n",
       "      <td>ACTIVE</td>\n",
       "      <td>NONE</td>\n",
       "      <td>2019</td>\n",
       "      <td>Summer</td>\n",
       "      <td>300~399元</td>\n",
       "      <td>冷門</td>\n",
       "    </tr>\n",
       "  </tbody>\n",
       "</table>\n",
       "<p>95084 rows × 15 columns</p>\n",
       "</div>"
      ],
      "text/plain": [
       "       article_id  sales_channel_id  product_group_name  \\\n",
       "27591   679278001                 2           Underwear   \n",
       "320     700701001                 2             Unknown   \n",
       "45590   684340001                 2            Swimwear   \n",
       "18181   660308007                 1  Garment Lower body   \n",
       "43037   492897001                 2           Underwear   \n",
       "...           ...               ...                 ...   \n",
       "86632   823118002                 2            Swimwear   \n",
       "77542   556539016                 1         Accessories   \n",
       "2519    685448005                 2   Garment Full body   \n",
       "42258   783507001                 2           Nightwear   \n",
       "687     746087002                 2  Garment Lower body   \n",
       "\n",
       "      graphical_appearance_name colour_group_name  \\\n",
       "27591                     Solid             Black   \n",
       "320                       Solid       Light Beige   \n",
       "45590                     Solid             Black   \n",
       "18181                    Stripe             Black   \n",
       "43037                     Solid             Black   \n",
       "...                         ...               ...   \n",
       "86632                    Stripe             White   \n",
       "77542                     Solid          Dark Red   \n",
       "2519                      Solid             Black   \n",
       "42258                       Dot             Black   \n",
       "687            All over pattern             Black   \n",
       "\n",
       "                         section_name garment_group_name  FN  Active  \\\n",
       "27591                 Womens Lingerie  Under-, Nightwear   1       1   \n",
       "320                   Womens Lingerie  Under-, Nightwear   1       1   \n",
       "45590      Womens Swimwear, beachwear           Swimwear   0       0   \n",
       "18181              Divided Collection           Trousers   0       0   \n",
       "43037                 Womens Lingerie  Under-, Nightwear   0       0   \n",
       "...                               ...                ...  ..     ...   \n",
       "86632      Womens Swimwear, beachwear           Swimwear   0       0   \n",
       "77542        Womens Small accessories        Accessories   0       0   \n",
       "2519       Womens Everyday Collection     Dresses Ladies   1       1   \n",
       "42258  Womens Nightwear, Socks & Tigh  Under-, Nightwear   1       1   \n",
       "687                Divided Collection             Skirts   0       0   \n",
       "\n",
       "      club_member_status fashion_news_frequency  Year  season pricelabel  \\\n",
       "27591             ACTIVE              REGULARLY  2019  Winter   200~299元   \n",
       "320               ACTIVE              REGULARLY  2019  Winter   200~299元   \n",
       "45590             ACTIVE                   NONE  2019  Winter   300~399元   \n",
       "18181             ACTIVE                   NONE  2019  Spring   200~299元   \n",
       "43037             ACTIVE                   NONE  2019  Spring   200~299元   \n",
       "...                  ...                    ...   ...     ...        ...   \n",
       "86632             ACTIVE                   NONE  2020  Spring   200~299元   \n",
       "77542             ACTIVE                   NONE  2019    Fall      99元以下   \n",
       "2519              ACTIVE              REGULARLY  2019  Spring   200~299元   \n",
       "42258             ACTIVE              REGULARLY  2019    Fall   300~399元   \n",
       "687               ACTIVE                   NONE  2019  Summer   300~399元   \n",
       "\n",
       "      salelabel  \n",
       "27591        一般  \n",
       "320          熱門  \n",
       "45590        熱門  \n",
       "18181        熱門  \n",
       "43037        熱門  \n",
       "...         ...  \n",
       "86632        冷門  \n",
       "77542        一般  \n",
       "2519         一般  \n",
       "42258        一般  \n",
       "687          冷門  \n",
       "\n",
       "[95084 rows x 15 columns]"
      ]
     },
     "execution_count": 173,
     "metadata": {},
     "output_type": "execute_result"
    },
    {
     "name": "stdout",
     "output_type": "stream",
     "text": [
      "time: 16 ms (started: 2022-04-18 14:50:05 +08:00)\n"
     ]
    }
   ],
   "source": [
    "df"
   ]
  },
  {
   "cell_type": "markdown",
   "id": "f6b026b6",
   "metadata": {
    "id": "f6b026b6"
   },
   "source": [
    "# 開始訓練"
   ]
  },
  {
   "cell_type": "code",
   "execution_count": 184,
   "id": "2fc19b2e",
   "metadata": {
    "colab": {
     "base_uri": "https://localhost:8080/",
     "height": 270
    },
    "executionInfo": {
     "elapsed": 270,
     "status": "ok",
     "timestamp": 1650170934724,
     "user": {
      "displayName": "gst g",
      "userId": "12328799786375158090"
     },
     "user_tz": -480
    },
    "id": "2fc19b2e",
    "outputId": "2d576594-a223-4a67-b268-21a4ce760491"
   },
   "outputs": [
    {
     "data": {
      "text/html": [
       "<div>\n",
       "<style scoped>\n",
       "    .dataframe tbody tr th:only-of-type {\n",
       "        vertical-align: middle;\n",
       "    }\n",
       "\n",
       "    .dataframe tbody tr th {\n",
       "        vertical-align: top;\n",
       "    }\n",
       "\n",
       "    .dataframe thead th {\n",
       "        text-align: right;\n",
       "    }\n",
       "</style>\n",
       "<table border=\"1\" class=\"dataframe\">\n",
       "  <thead>\n",
       "    <tr style=\"text-align: right;\">\n",
       "      <th></th>\n",
       "      <th>article_id</th>\n",
       "      <th>sales_channel_id</th>\n",
       "      <th>product_group_name</th>\n",
       "      <th>graphical_appearance_name</th>\n",
       "      <th>colour_group_name</th>\n",
       "      <th>section_name</th>\n",
       "      <th>garment_group_name</th>\n",
       "      <th>FN</th>\n",
       "      <th>Active</th>\n",
       "      <th>club_member_status</th>\n",
       "      <th>fashion_news_frequency</th>\n",
       "      <th>Year</th>\n",
       "      <th>season</th>\n",
       "      <th>pricelabel</th>\n",
       "      <th>salelabel</th>\n",
       "    </tr>\n",
       "  </thead>\n",
       "  <tbody>\n",
       "    <tr>\n",
       "      <th>56534</th>\n",
       "      <td>739347001</td>\n",
       "      <td>1</td>\n",
       "      <td>8</td>\n",
       "      <td>19</td>\n",
       "      <td>1</td>\n",
       "      <td>11</td>\n",
       "      <td>5</td>\n",
       "      <td>1</td>\n",
       "      <td>1</td>\n",
       "      <td>0</td>\n",
       "      <td>2</td>\n",
       "      <td>1</td>\n",
       "      <td>0</td>\n",
       "      <td>2</td>\n",
       "      <td>1</td>\n",
       "    </tr>\n",
       "    <tr>\n",
       "      <th>22079</th>\n",
       "      <td>834258003</td>\n",
       "      <td>2</td>\n",
       "      <td>7</td>\n",
       "      <td>19</td>\n",
       "      <td>36</td>\n",
       "      <td>26</td>\n",
       "      <td>14</td>\n",
       "      <td>1</td>\n",
       "      <td>1</td>\n",
       "      <td>0</td>\n",
       "      <td>2</td>\n",
       "      <td>2</td>\n",
       "      <td>3</td>\n",
       "      <td>2</td>\n",
       "      <td>0</td>\n",
       "    </tr>\n",
       "    <tr>\n",
       "      <th>45677</th>\n",
       "      <td>806388009</td>\n",
       "      <td>2</td>\n",
       "      <td>3</td>\n",
       "      <td>12</td>\n",
       "      <td>17</td>\n",
       "      <td>4</td>\n",
       "      <td>4</td>\n",
       "      <td>1</td>\n",
       "      <td>1</td>\n",
       "      <td>0</td>\n",
       "      <td>2</td>\n",
       "      <td>2</td>\n",
       "      <td>1</td>\n",
       "      <td>1</td>\n",
       "      <td>2</td>\n",
       "    </tr>\n",
       "    <tr>\n",
       "      <th>92049</th>\n",
       "      <td>656719015</td>\n",
       "      <td>2</td>\n",
       "      <td>2</td>\n",
       "      <td>2</td>\n",
       "      <td>1</td>\n",
       "      <td>20</td>\n",
       "      <td>15</td>\n",
       "      <td>0</td>\n",
       "      <td>0</td>\n",
       "      <td>0</td>\n",
       "      <td>1</td>\n",
       "      <td>1</td>\n",
       "      <td>0</td>\n",
       "      <td>4</td>\n",
       "      <td>0</td>\n",
       "    </tr>\n",
       "    <tr>\n",
       "      <th>25168</th>\n",
       "      <td>819139001</td>\n",
       "      <td>2</td>\n",
       "      <td>1</td>\n",
       "      <td>19</td>\n",
       "      <td>19</td>\n",
       "      <td>20</td>\n",
       "      <td>13</td>\n",
       "      <td>1</td>\n",
       "      <td>1</td>\n",
       "      <td>0</td>\n",
       "      <td>2</td>\n",
       "      <td>1</td>\n",
       "      <td>3</td>\n",
       "      <td>3</td>\n",
       "      <td>0</td>\n",
       "    </tr>\n",
       "  </tbody>\n",
       "</table>\n",
       "</div>"
      ],
      "text/plain": [
       "       article_id  sales_channel_id  product_group_name  \\\n",
       "56534   739347001                 1                   8   \n",
       "22079   834258003                 2                   7   \n",
       "45677   806388009                 2                   3   \n",
       "92049   656719015                 2                   2   \n",
       "25168   819139001                 2                   1   \n",
       "\n",
       "       graphical_appearance_name  colour_group_name  section_name  \\\n",
       "56534                         19                  1            11   \n",
       "22079                         19                 36            26   \n",
       "45677                         12                 17             4   \n",
       "92049                          2                  1            20   \n",
       "25168                         19                 19            20   \n",
       "\n",
       "       garment_group_name  FN  Active  club_member_status  \\\n",
       "56534                   5   1       1                   0   \n",
       "22079                  14   1       1                   0   \n",
       "45677                   4   1       1                   0   \n",
       "92049                  15   0       0                   0   \n",
       "25168                  13   1       1                   0   \n",
       "\n",
       "       fashion_news_frequency  Year  season  pricelabel  salelabel  \n",
       "56534                       2     1       0           2          1  \n",
       "22079                       2     2       3           2          0  \n",
       "45677                       2     2       1           1          2  \n",
       "92049                       1     1       0           4          0  \n",
       "25168                       2     1       3           3          0  "
      ]
     },
     "execution_count": 184,
     "metadata": {},
     "output_type": "execute_result"
    },
    {
     "name": "stdout",
     "output_type": "stream",
     "text": [
      "time: 218 ms (started: 2022-04-18 14:50:25 +08:00)\n"
     ]
    }
   ],
   "source": [
    "from sklearn.preprocessing import LabelEncoder #需要特徵都轉數值\n",
    "labelencoder = LabelEncoder()\n",
    "\n",
    "df['product_group_name']= labelencoder.fit_transform(df['product_group_name'])\n",
    "df['graphical_appearance_name']= labelencoder.fit_transform(df['graphical_appearance_name'])\n",
    "df['colour_group_name']= labelencoder.fit_transform(df['colour_group_name'])\n",
    "df['section_name']= labelencoder.fit_transform(df['section_name'])\n",
    "df['garment_group_name']= labelencoder.fit_transform(df['garment_group_name'])\n",
    "\n",
    "df['club_member_status']= labelencoder.fit_transform(df['club_member_status'])\n",
    "df['fashion_news_frequency']= labelencoder.fit_transform(df['fashion_news_frequency'])\n",
    "#df['department_name']= labelencoder.fit_transform(df['department_name'])\n",
    "\n",
    "\n",
    "\n",
    "#以下實驗\n",
    "df['Year']= labelencoder.fit_transform(df['Year'])\n",
    "df['pricelabel']= labelencoder.fit_transform(df['pricelabel'])\n",
    "df['season']= labelencoder.fit_transform(df['season'])\n",
    "df['salelabel']= labelencoder.fit_transform(df['salelabel'])\n",
    "\n",
    "df.head()"
   ]
  },
  {
   "cell_type": "code",
   "execution_count": 185,
   "id": "4dca1b38",
   "metadata": {
    "id": "4dca1b38"
   },
   "outputs": [
    {
     "name": "stdout",
     "output_type": "stream",
     "text": [
      "time: 0 ns (started: 2022-04-18 14:50:26 +08:00)\n"
     ]
    }
   ],
   "source": [
    "sdf=df"
   ]
  },
  {
   "cell_type": "code",
   "execution_count": 186,
   "id": "cf63c888",
   "metadata": {},
   "outputs": [
    {
     "name": "stdout",
     "output_type": "stream",
     "text": [
      "<class 'pandas.core.frame.DataFrame'>\n",
      "Int64Index: 95084 entries, 56534 to 93063\n",
      "Data columns (total 15 columns):\n",
      " #   Column                     Non-Null Count  Dtype\n",
      "---  ------                     --------------  -----\n",
      " 0   article_id                 95084 non-null  int64\n",
      " 1   sales_channel_id           95084 non-null  int64\n",
      " 2   product_group_name         95084 non-null  int32\n",
      " 3   graphical_appearance_name  95084 non-null  int32\n",
      " 4   colour_group_name          95084 non-null  int32\n",
      " 5   section_name               95084 non-null  int32\n",
      " 6   garment_group_name         95084 non-null  int32\n",
      " 7   FN                         95084 non-null  int64\n",
      " 8   Active                     95084 non-null  int64\n",
      " 9   club_member_status         95084 non-null  int32\n",
      " 10  fashion_news_frequency     95084 non-null  int32\n",
      " 11  Year                       95084 non-null  int64\n",
      " 12  season                     95084 non-null  int32\n",
      " 13  pricelabel                 95084 non-null  int32\n",
      " 14  salelabel                  95084 non-null  int32\n",
      "dtypes: int32(10), int64(5)\n",
      "memory usage: 8.0 MB\n",
      "time: 15 ms (started: 2022-04-18 14:50:28 +08:00)\n"
     ]
    }
   ],
   "source": [
    "sdf.info()"
   ]
  },
  {
   "cell_type": "code",
   "execution_count": 187,
   "id": "bec5ff6e",
   "metadata": {
    "colab": {
     "base_uri": "https://localhost:8080/"
    },
    "executionInfo": {
     "elapsed": 9,
     "status": "ok",
     "timestamp": 1650170934725,
     "user": {
      "displayName": "gst g",
      "userId": "12328799786375158090"
     },
     "user_tz": -480
    },
    "id": "bec5ff6e",
    "outputId": "89e20d5b-1c9d-448f-dc5c-bbc3aa332915"
   },
   "outputs": [
    {
     "name": "stdout",
     "output_type": "stream",
     "text": [
      "<class 'pandas.core.frame.DataFrame'>\n",
      "Int64Index: 95084 entries, 56534 to 93063\n",
      "Data columns (total 15 columns):\n",
      " #   Column                     Non-Null Count  Dtype\n",
      "---  ------                     --------------  -----\n",
      " 0   article_id                 95084 non-null  int32\n",
      " 1   sales_channel_id           95084 non-null  int32\n",
      " 2   product_group_name         95084 non-null  int32\n",
      " 3   graphical_appearance_name  95084 non-null  int32\n",
      " 4   colour_group_name          95084 non-null  int32\n",
      " 5   section_name               95084 non-null  int32\n",
      " 6   garment_group_name         95084 non-null  int32\n",
      " 7   FN                         95084 non-null  int32\n",
      " 8   Active                     95084 non-null  int32\n",
      " 9   club_member_status         95084 non-null  int32\n",
      " 10  fashion_news_frequency     95084 non-null  int32\n",
      " 11  Year                       95084 non-null  int64\n",
      " 12  season                     95084 non-null  int32\n",
      " 13  pricelabel                 95084 non-null  int32\n",
      " 14  salelabel                  95084 non-null  int32\n",
      "dtypes: int32(14), int64(1)\n",
      "memory usage: 6.5 MB\n",
      "time: 32 ms (started: 2022-04-18 14:50:37 +08:00)\n"
     ]
    }
   ],
   "source": [
    "#類型轉換瘦身 使機器學習運算更快\n",
    "sdf['garment_group_name']=sdf['garment_group_name'].astype('int32')\n",
    "sdf['section_name']=sdf['section_name'].astype('int32')\n",
    "sdf['colour_group_name']=sdf['colour_group_name'].astype('int32')\n",
    "sdf['graphical_appearance_name']=sdf['graphical_appearance_name'].astype('int32')\n",
    "sdf['product_group_name']=sdf['product_group_name'].astype('int32')\n",
    "sdf['sales_channel_id']=sdf['sales_channel_id'].astype('int32')\n",
    "sdf['article_id']=sdf['article_id'].astype('int32')\n",
    "#sdf['department_name']=sdf['department_name'].astype('int32')\n",
    "\n",
    "\n",
    "sdf['FN']=sdf['FN'].astype('int32')\n",
    "sdf['Active']=sdf['Active'].astype('int32')\n",
    "sdf['club_member_status']=sdf['club_member_status'].astype('int32')\n",
    "sdf['fashion_news_frequency']=sdf['fashion_news_frequency'].astype('int32')\n",
    "\n",
    "\n",
    "# sdf['Year']=sdf['Year'].astype('int32')\n",
    "# sdf['season']=sdf['season'].astype('int32')\n",
    "# sdf['pricelabel']=sdf['pricelabel'].astype('int32')\n",
    "# sdf['salelabel']=sdf['salelabel'].astype('int32')\n",
    "\n",
    "sdf.info()"
   ]
  },
  {
   "cell_type": "code",
   "execution_count": 188,
   "id": "66dc358a",
   "metadata": {
    "id": "66dc358a"
   },
   "outputs": [
    {
     "name": "stdout",
     "output_type": "stream",
     "text": [
      "time: 0 ns (started: 2022-04-18 14:50:37 +08:00)\n"
     ]
    }
   ],
   "source": [
    "#設定要預測的Y\n",
    "labels=sdf['article_id'] "
   ]
  },
  {
   "cell_type": "code",
   "execution_count": 189,
   "id": "4c888e60",
   "metadata": {
    "id": "4c888e60"
   },
   "outputs": [
    {
     "name": "stdout",
     "output_type": "stream",
     "text": [
      "time: 0 ns (started: 2022-04-18 14:50:38 +08:00)\n"
     ]
    }
   ],
   "source": [
    "#移除要預測的Y 表就只剩下X\n",
    "sdf=sdf.drop('article_id',axis=1) "
   ]
  },
  {
   "cell_type": "code",
   "execution_count": 190,
   "id": "b628831f",
   "metadata": {
    "id": "b628831f"
   },
   "outputs": [
    {
     "name": "stdout",
     "output_type": "stream",
     "text": [
      "time: 15 ms (started: 2022-04-18 14:50:38 +08:00)\n"
     ]
    }
   ],
   "source": [
    "#訓練集、測試集分割\n",
    "import tensorflow as tf \n",
    "from sklearn.model_selection import train_test_split\n",
    "X_train, X_test, y_train, y_test = train_test_split(sdf, labels,test_size=0.2, random_state=80) "
   ]
  },
  {
   "cell_type": "markdown",
   "id": "ae89e9da",
   "metadata": {
    "id": "ae89e9da"
   },
   "source": [
    "# xgboost"
   ]
  },
  {
   "cell_type": "code",
   "execution_count": 191,
   "id": "63fb583b",
   "metadata": {
    "id": "63fb583b"
   },
   "outputs": [
    {
     "name": "stdout",
     "output_type": "stream",
     "text": [
      "time: 47 ms (started: 2022-04-18 14:50:39 +08:00)\n"
     ]
    }
   ],
   "source": [
    "from xgboost.sklearn import XGBClassifier\n",
    "xgbc = XGBClassifier(        \n",
    "        n_estimators=8,     #樹的個數\n",
    "        learning_rate= 0.1,    # 如同學習率 \n",
    "        max_depth=15,       # 構建樹的深度，越大越容易過擬合    \n",
    "        subsample=1,         # 隨機取樣訓練樣本 訓練例項的子取樣比\n",
    "        gamma=0,         # 用於控制是否後剪枝的引數,越大越保守，一般0.1、0.2這樣子\n",
    "        reg_lambda=1,          # 控制模型複雜度的權重值的L2正則化項引數，引數越大，模型越不容易過擬合。\n",
    "        max_delta_step=0,        #最大增量步長，我們允許每個樹的權重估計。\n",
    "        colsample_bytree=1,         # 生成樹時進行的列取樣 \n",
    "        min_child_weight=1, \n",
    "                     # 這個引數預設是 1，是每個葉子裡面 h 的和至少是多少，對正負樣本不均衡時的 0-1 分類而言\n",
    "                     # 假設 h 在 0.01 附近，min_child_weight 為 1 意味著葉子節點中最少需要包含 100 個樣本。\n",
    "                     #這個引數非常影響結果，控制葉子節點中二階導的和的最小值，該引數值越小，越容易 overfitting。\n",
    "        seed=1000         #隨機種子\n",
    "#        reg_alpha=0,        # L1 正則項引數\n",
    "        #scale_pos_weight=1,        #如果取值大於0的話，在類別樣本不平衡的情況下有助於快速收斂。平衡正負權重\n",
    "        #objective= 'multi:softmax',         #多分類的問題 指定學習任務和相應的學習目標\n",
    "        #num_class=10,        # 類別數，多分類與 multisoftmax 並用\n",
    "#        silent=0 ,        # 設定成1則沒有執行資訊輸出，最好是設定為0.是否在執行升級時列印訊息。\n",
    "#        nthread=4,        # cpu 執行緒數 預設最大\n",
    "        #eval_metric= 'auc'\n",
    ")\n"
   ]
  },
  {
   "cell_type": "code",
   "execution_count": 192,
   "id": "d4061bbc",
   "metadata": {
    "colab": {
     "background_save": true
    },
    "id": "d4061bbc",
    "outputId": "33a7dbb0-a882-46b9-ef49-5ab0c2027cef"
   },
   "outputs": [
    {
     "name": "stdout",
     "output_type": "stream",
     "text": [
      "The autotime extension is already loaded. To reload it, use:\n",
      "  %reload_ext autotime\n"
     ]
    },
    {
     "name": "stderr",
     "output_type": "stream",
     "text": [
      "C:\\ProgramData\\Anaconda3\\lib\\site-packages\\xgboost\\sklearn.py:1224: UserWarning: The use of label encoder in XGBClassifier is deprecated and will be removed in a future release. To remove this warning, do the following: 1) Pass option use_label_encoder=False when constructing XGBClassifier object; and 2) Encode your labels (y) as integers starting with 0, i.e. 0, 1, 2, ..., [num_class - 1].\n",
      "  warnings.warn(label_encoder_deprecation_msg, UserWarning)\n",
      "C:\\ProgramData\\Anaconda3\\lib\\site-packages\\xgboost\\data.py:250: FutureWarning: pandas.Int64Index is deprecated and will be removed from pandas in a future version. Use pandas.Index with the appropriate dtype instead.\n",
      "  elif isinstance(data.columns, (pd.Int64Index, pd.RangeIndex)):\n"
     ]
    },
    {
     "name": "stdout",
     "output_type": "stream",
     "text": [
      "[14:50:53] WARNING: ..\\src\\learner.cc:1115: Starting in XGBoost 1.3.0, the default evaluation metric used with the objective 'multi:softprob' was changed from 'merror' to 'mlogloss'. Explicitly set eval_metric if you'd like to restore the old behavior.\n",
      "[552716001 776179001 803592001 ... 570319001 698294001 751530003]\n",
      "time: 2min 27s (started: 2022-04-18 14:50:39 +08:00)\n"
     ]
    }
   ],
   "source": [
    "%load_ext autotime\n",
    "xgbc.fit(X_train, y_train) #模型訓練\n",
    "XGB_pred=xgbc.predict(X_test) #模型去預測X_test\n",
    "print(XGB_pred) #此為根據X_test預測出的Y"
   ]
  },
  {
   "cell_type": "code",
   "execution_count": 193,
   "id": "a1c2aa0f",
   "metadata": {
    "colab": {
     "background_save": true
    },
    "id": "a1c2aa0f",
    "outputId": "f9e3a815-a441-47d2-cdc3-9d1b791b7376"
   },
   "outputs": [
    {
     "name": "stdout",
     "output_type": "stream",
     "text": [
      "0.819054254801688\n",
      "time: 2.83 s (started: 2022-04-18 14:53:07 +08:00)\n"
     ]
    }
   ],
   "source": [
    "XGBtrain_score=xgbc.score(X_train, y_train)\n",
    "print(XGBtrain_score) #X與Y訓練集的準確率"
   ]
  },
  {
   "cell_type": "code",
   "execution_count": 194,
   "id": "a3ff9d04",
   "metadata": {
    "colab": {
     "background_save": true
    },
    "id": "a3ff9d04",
    "outputId": "a3a95d8e-bebd-404e-94e1-bcbc36a9efe6"
   },
   "outputs": [
    {
     "name": "stdout",
     "output_type": "stream",
     "text": [
      "The Accuracy of XGBOOST Classifier on testing set: 0.7950255034968712\n",
      "time: 703 ms (started: 2022-04-18 14:53:10 +08:00)\n"
     ]
    }
   ],
   "source": [
    "XGBtest_score=xgbc.score(X_test,y_test)\n",
    "print('The Accuracy of XGBOOST Classifier on testing set:', XGBtest_score) #X與Y測試集的準確率"
   ]
  },
  {
   "cell_type": "code",
   "execution_count": 77,
   "id": "7606a59e",
   "metadata": {
    "colab": {
     "background_save": true
    },
    "id": "7606a59e"
   },
   "outputs": [
    {
     "name": "stdout",
     "output_type": "stream",
     "text": [
      "time: 0 ns (started: 2022-04-18 14:26:26 +08:00)\n"
     ]
    }
   ],
   "source": [
    "# 達到一定標準證明模型準確可以使用\n",
    "# 只要再製造X_test 就可以print(XGB_pred)得到要的Y"
   ]
  },
  {
   "cell_type": "code",
   "execution_count": 78,
   "id": "fff745e7",
   "metadata": {
    "colab": {
     "background_save": true
    },
    "id": "fff745e7",
    "outputId": "dc7f8a1a-492e-42b5-dbdc-5f8a4c13cd4e",
    "scrolled": true
   },
   "outputs": [
    {
     "data": {
      "text/html": [
       "<div>\n",
       "<style scoped>\n",
       "    .dataframe tbody tr th:only-of-type {\n",
       "        vertical-align: middle;\n",
       "    }\n",
       "\n",
       "    .dataframe tbody tr th {\n",
       "        vertical-align: top;\n",
       "    }\n",
       "\n",
       "    .dataframe thead th {\n",
       "        text-align: right;\n",
       "    }\n",
       "</style>\n",
       "<table border=\"1\" class=\"dataframe\">\n",
       "  <thead>\n",
       "    <tr style=\"text-align: right;\">\n",
       "      <th></th>\n",
       "      <th>sales_channel_id</th>\n",
       "      <th>product_group_name</th>\n",
       "      <th>graphical_appearance_name</th>\n",
       "    </tr>\n",
       "  </thead>\n",
       "  <tbody>\n",
       "    <tr>\n",
       "      <th>0</th>\n",
       "      <td>線上</td>\n",
       "      <td>上衣</td>\n",
       "      <td>圓形</td>\n",
       "    </tr>\n",
       "  </tbody>\n",
       "</table>\n",
       "</div>"
      ],
      "text/plain": [
       "  sales_channel_id product_group_name graphical_appearance_name\n",
       "0               線上                 上衣                        圓形"
      ]
     },
     "execution_count": 78,
     "metadata": {},
     "output_type": "execute_result"
    },
    {
     "name": "stdout",
     "output_type": "stream",
     "text": [
      "time: 15 ms (started: 2022-04-18 14:26:26 +08:00)\n"
     ]
    }
   ],
   "source": [
    "#建立X_test架構====想法\n",
    "#填入網頁輸入內容連接的函式?\n",
    "\n",
    "請輸入購買管道=pd.Series('線上') #此為透過網頁輸入的資料\n",
    "請輸入想要類別=pd.Series('上衣') #此為透過網頁輸入的資料\n",
    "請輸入想要樣式=pd.Series('圓形') #此為透過網頁輸入的資料\n",
    "\n",
    "TestX=pd.DataFrame({'sales_channel_id':請輸入購買管道,\n",
    "                   'product_group_name':請輸入想要類別,\n",
    "                   'graphical_appearance_name':請輸入想要樣式})\n",
    "TestX"
   ]
  },
  {
   "cell_type": "code",
   "execution_count": 79,
   "id": "72dcd7e7",
   "metadata": {
    "colab": {
     "background_save": true
    },
    "id": "72dcd7e7"
   },
   "outputs": [
    {
     "name": "stdout",
     "output_type": "stream",
     "text": [
      "time: 0 ns (started: 2022-04-18 14:26:26 +08:00)\n"
     ]
    }
   ],
   "source": [
    "#以上方想法請參考一條龍的檔案"
   ]
  },
  {
   "cell_type": "markdown",
   "id": "a15bfbce",
   "metadata": {},
   "source": [
    "# 隨機森林"
   ]
  },
  {
   "cell_type": "code",
   "execution_count": 80,
   "id": "6a8f5e5f",
   "metadata": {
    "scrolled": true
   },
   "outputs": [
    {
     "name": "stdout",
     "output_type": "stream",
     "text": [
      "Requirement already satisfied: ipython-autotime in c:\\programdata\\anaconda3\\lib\\site-packages (0.3.1)time: 2.64 s (started: 2022-04-18 14:26:26 +08:00)\n",
      "Requirement already satisfied: ipython in c:\\programdata\\anaconda3\\lib\\site-packages (from ipython-autotime) (8.2.0)\n",
      "Requirement already satisfied: prompt-toolkit!=3.0.0,!=3.0.1,<3.1.0,>=2.0.0 in c:\\programdata\\anaconda3\\lib\\site-packages (from ipython->ipython-autotime) (3.0.20)\n",
      "Requirement already satisfied: pickleshare in c:\\programdata\\anaconda3\\lib\\site-packages (from ipython->ipython-autotime) (0.7.5)\n",
      "Requirement already satisfied: jedi>=0.16 in c:\\programdata\\anaconda3\\lib\\site-packages (from ipython->ipython-autotime) (0.17.1)\n",
      "Requirement already satisfied: backcall in c:\\programdata\\anaconda3\\lib\\site-packages (from ipython->ipython-autotime) (0.2.0)\n",
      "Requirement already satisfied: decorator in c:\\programdata\\anaconda3\\lib\\site-packages (from ipython->ipython-autotime) (5.1.1)\n",
      "Requirement already satisfied: setuptools>=18.5 in c:\\programdata\\anaconda3\\lib\\site-packages (from ipython->ipython-autotime) (61.2.0)\n",
      "Requirement already satisfied: traitlets>=5 in c:\\programdata\\anaconda3\\lib\\site-packages (from ipython->ipython-autotime) (5.1.1)\n",
      "Requirement already satisfied: colorama in c:\\programdata\\anaconda3\\lib\\site-packages (from ipython->ipython-autotime) (0.4.4)\n",
      "Requirement already satisfied: matplotlib-inline in c:\\programdata\\anaconda3\\lib\\site-packages (from ipython->ipython-autotime) (0.1.2)\n",
      "Requirement already satisfied: stack-data in c:\\programdata\\anaconda3\\lib\\site-packages (from ipython->ipython-autotime) (0.2.0)\n",
      "Requirement already satisfied: pygments>=2.4.0 in c:\\programdata\\anaconda3\\lib\\site-packages (from ipython->ipython-autotime) (2.11.2)\n",
      "Requirement already satisfied: parso<0.8.0,>=0.7.0 in c:\\programdata\\anaconda3\\lib\\site-packages (from jedi>=0.16->ipython->ipython-autotime) (0.7.0)\n",
      "Requirement already satisfied: wcwidth in c:\\programdata\\anaconda3\\lib\\site-packages (from prompt-toolkit!=3.0.0,!=3.0.1,<3.1.0,>=2.0.0->ipython->ipython-autotime) (0.2.5)\n",
      "Requirement already satisfied: pure-eval in c:\\programdata\\anaconda3\\lib\\site-packages (from stack-data->ipython->ipython-autotime) (0.2.2)\n",
      "Requirement already satisfied: asttokens in c:\\programdata\\anaconda3\\lib\\site-packages (from stack-data->ipython->ipython-autotime) (2.0.5)\n",
      "Requirement already satisfied: executing in c:\\programdata\\anaconda3\\lib\\site-packages (from stack-data->ipython->ipython-autotime) (0.8.3)\n"
     ]
    },
    {
     "name": "stderr",
     "output_type": "stream",
     "text": [
      "WARNING: Ignoring invalid distribution -mportlib-metadata (c:\\programdata\\anaconda3\\lib\\site-packages)\n",
      "WARNING: Ignoring invalid distribution -mportlib-metadata (c:\\programdata\\anaconda3\\lib\\site-packages)\n",
      "WARNING: Ignoring invalid distribution -mportlib-metadata (c:\\programdata\\anaconda3\\lib\\site-packages)\n",
      "WARNING: Ignoring invalid distribution -mportlib-metadata (c:\\programdata\\anaconda3\\lib\\site-packages)\n",
      "WARNING: Ignoring invalid distribution -mportlib-metadata (c:\\programdata\\anaconda3\\lib\\site-packages)\n",
      "WARNING: Ignoring invalid distribution -mportlib-metadata (c:\\programdata\\anaconda3\\lib\\site-packages)\n"
     ]
    },
    {
     "name": "stdout",
     "output_type": "stream",
     "text": [
      "\n",
      "Requirement already satisfied: six in c:\\programdata\\anaconda3\\lib\\site-packages (from asttokens->stack-data->ipython->ipython-autotime) (1.16.0)\n"
     ]
    }
   ],
   "source": [
    "!pip install ipython-autotime\n"
   ]
  },
  {
   "cell_type": "code",
   "execution_count": 82,
   "id": "489388d2",
   "metadata": {},
   "outputs": [
    {
     "name": "stdout",
     "output_type": "stream",
     "text": [
      "The autotime extension is already loaded. To reload it, use:\n",
      "  %reload_ext autotime\n",
      "time: 1min 31s (started: 2022-04-18 14:26:28 +08:00)\n"
     ]
    }
   ],
   "source": [
    "from sklearn.ensemble import RandomForestClassifier\n",
    "%load_ext autotime\n",
    "# 建立 Random Forest Classifier 模型\n",
    "randomForestModel = RandomForestClassifier(n_estimators=100, criterion = 'gini')\n",
    "# 使用訓練資料訓練模型\n",
    "randomForestModel.fit(X_train, y_train)\n",
    "# 使用訓練資料預測分類\n",
    "predicted = randomForestModel.predict(X_train)"
   ]
  },
  {
   "cell_type": "code",
   "execution_count": 83,
   "id": "13aba2b1",
   "metadata": {},
   "outputs": [
    {
     "name": "stdout",
     "output_type": "stream",
     "text": [
      "訓練集:  0.5631219845662376\n",
      "測試集:  0.5288951990324446\n",
      "time: 1min 28s (started: 2022-04-18 14:27:59 +08:00)\n"
     ]
    }
   ],
   "source": [
    "print('訓練集: ',randomForestModel.score(X_train,y_train))\n",
    "print('測試集: ',randomForestModel.score(X_test,y_test))"
   ]
  },
  {
   "cell_type": "code",
   "execution_count": null,
   "id": "8bf2f906",
   "metadata": {},
   "outputs": [],
   "source": []
  },
  {
   "cell_type": "code",
   "execution_count": null,
   "id": "e0ae890a",
   "metadata": {},
   "outputs": [],
   "source": []
  },
  {
   "cell_type": "markdown",
   "id": "71a2c1f8",
   "metadata": {},
   "source": [
    "# catboost"
   ]
  },
  {
   "cell_type": "code",
   "execution_count": 84,
   "id": "0609741c",
   "metadata": {},
   "outputs": [
    {
     "data": {
      "application/vnd.jupyter.widget-view+json": {
       "model_id": "30d44a4fbcd347ea91296d875fe2f0da",
       "version_major": 2,
       "version_minor": 0
      },
      "text/plain": [
       "MetricVisualizer(layout=Layout(align_self='stretch', height='500px'))"
      ]
     },
     "metadata": {},
     "output_type": "display_data"
    },
    {
     "data": {
      "text/plain": [
       "<catboost.core.CatBoostRegressor at 0x21d981298b0>"
      ]
     },
     "execution_count": 84,
     "metadata": {},
     "output_type": "execute_result"
    },
    {
     "name": "stdout",
     "output_type": "stream",
     "text": [
      "time: 6.02 s (started: 2022-04-18 14:29:28 +08:00)\n"
     ]
    }
   ],
   "source": [
    "from catboost import CatBoostRegressor\n",
    "\n",
    "# 建立模型\n",
    "model02 = CatBoostRegressor(random_state=42,\n",
    "                         loss_function='RMSE',\n",
    "                         eval_metric='RMSE',\n",
    "                         use_best_model=True)\n",
    "# 使用訓練資料訓練模型\n",
    "model02.fit(X_train,y_train, eval_set=(X_test, y_test), verbose=0, plot=True)"
   ]
  },
  {
   "cell_type": "code",
   "execution_count": 85,
   "id": "c556ed7f",
   "metadata": {
    "scrolled": true
   },
   "outputs": [
    {
     "name": "stdout",
     "output_type": "stream",
     "text": [
      "0.6625296696185592\n",
      "time: 47 ms (started: 2022-04-18 14:29:34 +08:00)\n"
     ]
    }
   ],
   "source": [
    "model02_score=model02.score(X_train, y_train)\n",
    "print(model02_score) #X與Y訓練集的準確率"
   ]
  },
  {
   "cell_type": "code",
   "execution_count": 86,
   "id": "654a6616",
   "metadata": {},
   "outputs": [
    {
     "name": "stdout",
     "output_type": "stream",
     "text": [
      "The Accuracy of XGBOOST Classifier on testing set: 0.6532978423519697\n",
      "time: 15 ms (started: 2022-04-18 14:29:34 +08:00)\n"
     ]
    }
   ],
   "source": [
    "model02_test_score=model02.score(X_test,y_test)\n",
    "print('The Accuracy of XGBOOST Classifier on testing set:', model02_test_score) #X與Y測試集的準確率"
   ]
  },
  {
   "cell_type": "code",
   "execution_count": null,
   "id": "268f1dab",
   "metadata": {},
   "outputs": [],
   "source": []
  },
  {
   "cell_type": "code",
   "execution_count": null,
   "id": "6119f0d6",
   "metadata": {},
   "outputs": [],
   "source": []
  },
  {
   "cell_type": "code",
   "execution_count": null,
   "id": "8f897150",
   "metadata": {},
   "outputs": [],
   "source": []
  },
  {
   "cell_type": "code",
   "execution_count": null,
   "id": "767c84a4",
   "metadata": {},
   "outputs": [],
   "source": []
  },
  {
   "cell_type": "code",
   "execution_count": null,
   "id": "4e20867b",
   "metadata": {},
   "outputs": [],
   "source": []
  }
 ],
 "metadata": {
  "accelerator": "TPU",
  "colab": {
   "name": "0416_To網頁.ipynb",
   "provenance": []
  },
  "kernelspec": {
   "display_name": "Python 3 (ipykernel)",
   "language": "python",
   "name": "python3"
  },
  "language_info": {
   "codemirror_mode": {
    "name": "ipython",
    "version": 3
   },
   "file_extension": ".py",
   "mimetype": "text/x-python",
   "name": "python",
   "nbconvert_exporter": "python",
   "pygments_lexer": "ipython3",
   "version": "3.8.5"
  },
  "toc": {
   "base_numbering": 1,
   "nav_menu": {},
   "number_sections": true,
   "sideBar": true,
   "skip_h1_title": false,
   "title_cell": "Table of Contents",
   "title_sidebar": "Contents",
   "toc_cell": false,
   "toc_position": {},
   "toc_section_display": true,
   "toc_window_display": false
  }
 },
 "nbformat": 4,
 "nbformat_minor": 5
}
